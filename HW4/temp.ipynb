{
 "cells": [
  {
   "cell_type": "code",
   "execution_count": 404,
   "metadata": {},
   "outputs": [],
   "source": [
    "import pandas as pd\n",
    "import numpy as np\n",
    "import matplotlib.pyplot as plt\n",
    "from sklearn.model_selection import train_test_split, cross_val_score\n",
    "from sklearn.metrics import roc_auc_score\n",
    "import torch\n",
    "from torch import nn\n",
    "from IPython import display\n",
    "from torch.utils.data import Dataset, DataLoader\n",
    "import torch.nn.functional as F\n",
    "from sklearn.metrics import roc_curve, auc\n",
    "\n",
    "pd.set_option(\"display.max_columns\", None)\n",
    "device = torch.device(\"cuda:0\" if torch.cuda.is_available() else \"cpu\")"
   ]
  },
  {
   "cell_type": "code",
   "execution_count": 409,
   "metadata": {},
   "outputs": [],
   "source": [
    "df = pd.read_csv('diabetes.csv')#.drop('Zodiac', axis = 1)\n",
    "def toDummy(df, var):\n",
    "    df = df.join(pd.get_dummies(df[var], prefix= var)).drop(var, axis = 1)\n",
    "    return df\n",
    "#df = df.join(pd.get_dummies(df['Zodiac'], prefix='Zodiac')).drop('Zodiac', axis = 1)\n",
    "df = toDummy(df, 'Zodiac')\n",
    "df = toDummy(df, 'BiologicalSex')\n",
    "df = toDummy(df, 'AgeBracket')\n",
    "df = toDummy(df, 'EducationBracket')\n",
    "df = toDummy(df, 'IncomeBracket')\n",
    "y = df['Diabetes']\n",
    "X = df.iloc[:, 1:]\n",
    "X = torch.tensor(X.values)\n",
    "y = torch.tensor(y.values)\n",
    "X = X.type(torch.FloatTensor)\n",
    "\n",
    "N = len(df.columns) - 1"
   ]
  },
  {
   "cell_type": "markdown",
   "metadata": {},
   "source": [
    "## Q1: Perceptron"
   ]
  },
  {
   "cell_type": "code",
   "execution_count": 420,
   "metadata": {},
   "outputs": [
    {
     "data": {
      "text/plain": [
       "0.7874833877596717"
      ]
     },
     "execution_count": 420,
     "metadata": {},
     "output_type": "execute_result"
    }
   ],
   "source": [
    "from sklearn.linear_model import Perceptron\n",
    "XTrain, XTest, yTrain, yTest = train_test_split(X, y, test_size = 0.2, random_state=41)\n",
    "pc = Perceptron()\n",
    "pc.fit(XTrain, yTrain)\n",
    "pc._predict_proba_lr(XTest)\n",
    "pred = pc._predict_proba_lr(XTest)[:,1]\n",
    "pcAuc = roc_auc_score(yTest, pred)\n",
    "pcAuc\n",
    "# RS 628: 0.7657\n",
    "# 42: 0.5312\n",
    "# 41: 0.7875"
   ]
  },
  {
   "cell_type": "code",
   "execution_count": 418,
   "metadata": {},
   "outputs": [
    {
     "data": {
      "text/plain": [
       "0.7891975713392723"
      ]
     },
     "execution_count": 418,
     "metadata": {},
     "output_type": "execute_result"
    }
   ],
   "source": [
    "pc = Perceptron()\n",
    "# first see average CV score\n",
    "pcAuc = cross_val_score(pc, X, y, scoring = 'roc_auc')\n",
    "pcAuc.mean()"
   ]
  },
  {
   "cell_type": "markdown",
   "metadata": {},
   "source": [
    "## Q2 Models and Functions"
   ]
  },
  {
   "cell_type": "code",
   "execution_count": 98,
   "metadata": {},
   "outputs": [],
   "source": [
    "class Data(Dataset):\n",
    "    def __init__(self, d):\n",
    "        self.x = d.type(torch.FloatTensor)[:, 1:]\n",
    "        self.y = d[:, 0]\n",
    "        self.numSample = d.shape[0]\n",
    "    def __getitem__(self, index):\n",
    "        return self.x[index], self.y[index]\n",
    "\n",
    "    # we can call len(dataset) to return the size\n",
    "    def __len__(self):\n",
    "        return self.numSample\n",
    "\n",
    "def getLoaders(r):\n",
    "    train, test = train_test_split(torch.tensor(df.values), test_size = 0.4, random_state=r)\n",
    "    test, val = train_test_split(test, test_size=0.5, random_state=r)\n",
    "    #est, val = train_test_split(test, test_size = 0.4, random_state=42)\n",
    "    trainSet = Data(train)\n",
    "    trainloader = DataLoader(dataset=trainSet,batch_size=200, shuffle=True)\n",
    "    testSet = Data(test)\n",
    "    testloader = DataLoader(dataset=testSet,batch_size=2000, shuffle=True)\n",
    "    valSet = Data(val)\n",
    "    valoader = DataLoader(dataset=valSet,batch_size=2000, shuffle=True)\n",
    "    return trainloader, testloader, valoader\n",
    "\n",
    "\n",
    "def TRAIN(epoch, model,lossF, train_loader):\n",
    "    model.train()\n",
    "    losses = []\n",
    "    auc = []\n",
    "    optimizer = torch.optim.Adam(model.parameters(), lr=1e-3, weight_decay=1e-3)\n",
    "    for DD in train_loader:\n",
    "        data, target = DD\n",
    "        # send data to device, where the \"device\" is either a GPU if it exists or a CPU\n",
    "        #data, target = data.to(device), target.to(device)\n",
    "        optimizer.zero_grad()\n",
    "        # forward pass through the model\n",
    "        output = model(data)\n",
    "        # forward pass through the cross-entropy loss function\n",
    "        try:\n",
    "            auc.append(roc_auc_score(target, output.detach().numpy()))\n",
    "        except:\n",
    "            pass\n",
    "        loss = lossF(output, target.unsqueeze(1).type(torch.FloatTensor))\n",
    "        losses.append(loss.item())\n",
    "        # backward pass through the cross-entropy loss function and the model\n",
    "        loss.backward()\n",
    "        \n",
    "        optimizer.step()\n",
    "    print('[EPOCH %d]\\t[TRAIN LOSS]: %f\\t[TRAIN AUC]: %f' % (epoch,np.mean(losses), np.mean(auc)))\n",
    "    return np.mean(losses), np.mean(auc)\n",
    "\n",
    "\n",
    "def TEST(model,lossF, train_loader):\n",
    "    model.eval()\n",
    "    losses = []\n",
    "    auc = []\n",
    "    with torch.no_grad():\n",
    "        for batch_idx, (data, target) in enumerate(train_loader):\n",
    "            # send data to device, where the \"device\" is either a GPU if it exists or a CPU\n",
    "            data, target = data.to(device), target.to(device)\n",
    "            # forward pass through the model\n",
    "            output = model(data)\n",
    "            # forward pass through the cross-entropy loss function\n",
    "            try:\n",
    "                auc.append(roc_auc_score(target, output.detach().numpy()))\n",
    "            except:\n",
    "                pass\n",
    "            loss = lossF(output, target.unsqueeze(1).type(torch.FloatTensor))\n",
    "            losses.append(loss.item())\n",
    "            # backward pass through the cross-entropy loss function and the model\n",
    "\n",
    "        print('[TEST LOSS AVG]: %f\\t[TEST AUC AVG]: %f' % (np.mean(losses), np.mean(auc)))\n",
    "    return np.mean(losses), np.mean(auc)\n",
    "\n",
    "\n",
    "hiddensize = 50\n",
    "h = hiddensize\n",
    "NN1Relu = nn.Sequential(\n",
    "            nn.Linear(N, hiddensize),\n",
    "            nn.ReLU(),\n",
    "            nn.Linear(hiddensize, 1),\n",
    "            nn.Sigmoid()\n",
    ")\n",
    "\n",
    "\n",
    "\n",
    "NN2Relu = nn.Sequential(\n",
    "            nn.Linear(N, hiddensize),\n",
    "            nn.ReLU(),\n",
    "            nn.Linear(hiddensize, hiddensize),\n",
    "            nn.ReLU(),\n",
    "            nn.Linear(hiddensize, 1),\n",
    "            nn.Sigmoid()\n",
    ")\n",
    "\n",
    "NN3Relu = nn.Sequential(\n",
    "            nn.Linear(N, hiddensize),\n",
    "            nn.ReLU(),\n",
    "            nn.Linear(hiddensize, hiddensize),\n",
    "            nn.ReLU(),\n",
    "            nn.Linear(hiddensize, hiddensize),\n",
    "            nn.ReLU(),\n",
    "            nn.Linear(hiddensize, 1),\n",
    "            nn.Sigmoid()\n",
    ")\n",
    "\n",
    "\n",
    "\n",
    "NN1Sig = nn.Sequential(\n",
    "            nn.Linear(N, h),\n",
    "            nn.Sigmoid(),\n",
    "            nn.Linear(h, 1),\n",
    "            nn.Sigmoid()\n",
    ")\n",
    "\n",
    "\n",
    "\n",
    "NN2Sig = nn.Sequential(\n",
    "            nn.Linear(N, h),\n",
    "            nn.Sigmoid(),\n",
    "            nn.Linear(h, h),\n",
    "            nn.Sigmoid(),\n",
    "            nn.Linear(h, 1),\n",
    "            nn.Sigmoid()\n",
    ")\n",
    "NN3Sig = nn.Sequential(\n",
    "            nn.Linear(N, h),\n",
    "            nn.Sigmoid(),\n",
    "            nn.Linear(h, h),\n",
    "            nn.Sigmoid(),\n",
    "            nn.Linear(h, h),\n",
    "            nn.Sigmoid(),\n",
    "            nn.Linear(h, 1),\n",
    "            nn.Sigmoid()\n",
    ")\n",
    "\n",
    "NN1 = nn.Sequential(\n",
    "            nn.Linear(N, h),\n",
    "            nn.Linear(h, 1),\n",
    "            nn.Sigmoid()\n",
    ")\n",
    "\n",
    "\n",
    "NN0 = nn.Sequential(\n",
    "            nn.Linear(N, 1),\n",
    "            nn.Sigmoid()\n",
    ")\n",
    "NN2 = nn.Sequential(\n",
    "            nn.Linear(N, h),\n",
    "            nn.Linear(h, h),\n",
    "            nn.Linear(h, 1),\n",
    "            nn.Sigmoid()\n",
    ")\n",
    "NN3 = nn.Sequential(\n",
    "            nn.Linear(N, h),\n",
    "            nn.Linear(h, h),\n",
    "            nn.Linear(h, h),\n",
    "            nn.Linear(h, 1),\n",
    "            nn.Sigmoid()\n",
    "\n",
    ")\n",
    "\n",
    "Q2Dic = {'NN1':NN1, 'NN2':NN2, 'NN3':NN3, 'NN1Relu':NN1Relu, 'NN1Sig':NN1Sig, 'NN1Relu':NN1Relu, 'NN2Sig':NN2Sig, 'NN3Sig':NN3Sig, 'NN2Relu': NN2Relu, 'NN3Relu': NN3Relu}\n",
    "#temp = sorted(Q2Dic.keys())\n",
    "\n",
    "\n",
    "trainloader, testloader, valloader = getLoaders(42)"
   ]
  },
  {
   "cell_type": "markdown",
   "metadata": {},
   "source": [
    "### Build and train a feedforward neural network with at least one hidden layer to classify diabetes from the rest of the dataset. Make sure to try different numbers of hidden layers and different activation functions (at a minimum reLU and sigmoid). Doing so: How does AUC vary as a function of the number of hidden layers and is it dependent on the kind of activation function used (make sure to include “no activation function” in your comparison). How does this network perform relative to the Perceptron? "
   ]
  },
  {
   "cell_type": "code",
   "execution_count": 72,
   "metadata": {},
   "outputs": [],
   "source": [
    "bce = nn.BCELoss()\n",
    "bcelogit = nn.BCEWithLogitsLoss()\n",
    "ce = nn.CrossEntropyLoss()\n",
    "optimizer = torch.optim.Adam(NN1Relu.parameters(), lr=1e-3, weight_decay=1e-3)\n",
    "def compareTrainTest(model, numEpoch, graph):\n",
    "    trainStats = np.empty([numEpoch, 2])*np.nan\n",
    "    testStats = np.empty([numEpoch, 2])*np.nan\n",
    "    for ii in range(1, numEpoch + 1):\n",
    "        trainStats[ii-1][0], trainStats[ii-1][1] = TRAIN(ii, model, bce, trainloader)\n",
    "        testStats[ii-1][0], testStats[ii-1][1] = TEST(model, bce, testloader)\n",
    "    if graph:\n",
    "        plt.figure(figsize=(10,6))\n",
    "        plt.plot(trainStats[:,0], color = 'blue')\n",
    "        plt.plot(testStats[:,0], color = 'orange')\n",
    "        plt.legend(['train','test'])\n",
    "        plt.xlabel('Epoch')\n",
    "        plt.ylabel('Loss')\n",
    "\n",
    "        plt.figure(figsize=(10,6))\n",
    "        plt.plot(trainStats[:,1], color = 'blue')\n",
    "        plt.plot(testStats[:,1], color = 'orange')\n",
    "        plt.legend(['train','test'])\n",
    "        plt.xlabel('Epoch')\n",
    "        plt.ylabel('AUC')\n",
    "    return trainStats, testStats\n"
   ]
  },
  {
   "cell_type": "code",
   "execution_count": 73,
   "metadata": {},
   "outputs": [
    {
     "name": "stdout",
     "output_type": "stream",
     "text": [
      "[EPOCH 1]\t[TRAIN LOSS]: 0.355610\t[TRAIN AUC]: 0.738389\n",
      "[TEST LOSS AVG]: 0.329188\t[TEST AUC AVG]: 0.806148\n",
      "[EPOCH 2]\t[TRAIN LOSS]: 0.328366\t[TRAIN AUC]: 0.810716\n",
      "[TEST LOSS AVG]: 0.324261\t[TEST AUC AVG]: 0.814886\n",
      "[EPOCH 3]\t[TRAIN LOSS]: 0.323750\t[TRAIN AUC]: 0.816862\n",
      "[TEST LOSS AVG]: 0.321894\t[TEST AUC AVG]: 0.820159\n"
     ]
    },
    {
     "ename": "KeyboardInterrupt",
     "evalue": "",
     "output_type": "error",
     "traceback": [
      "\u001b[0;31m---------------------------------------------------------------------------\u001b[0m",
      "\u001b[0;31mKeyboardInterrupt\u001b[0m                         Traceback (most recent call last)",
      "\u001b[0;32m/var/folders/bt/709h7c513ld30l7ynqg_cv0c0000gn/T/ipykernel_9498/261954754.py\u001b[0m in \u001b[0;36m<module>\u001b[0;34m\u001b[0m\n\u001b[0;32m----> 1\u001b[0;31m \u001b[0mtrain\u001b[0m\u001b[0;34m,\u001b[0m \u001b[0mtest\u001b[0m \u001b[0;34m=\u001b[0m \u001b[0mcompareTrainTest\u001b[0m\u001b[0;34m(\u001b[0m\u001b[0mNN1Relu\u001b[0m\u001b[0;34m,\u001b[0m \u001b[0;36m20\u001b[0m\u001b[0;34m,\u001b[0m \u001b[0;32mTrue\u001b[0m\u001b[0;34m)\u001b[0m\u001b[0;34m\u001b[0m\u001b[0;34m\u001b[0m\u001b[0m\n\u001b[0m",
      "\u001b[0;32m/var/folders/bt/709h7c513ld30l7ynqg_cv0c0000gn/T/ipykernel_9498/4161884840.py\u001b[0m in \u001b[0;36mcompareTrainTest\u001b[0;34m(model, numEpoch, graph)\u001b[0m\n\u001b[1;32m      7\u001b[0m     \u001b[0mtestStats\u001b[0m \u001b[0;34m=\u001b[0m \u001b[0mnp\u001b[0m\u001b[0;34m.\u001b[0m\u001b[0mempty\u001b[0m\u001b[0;34m(\u001b[0m\u001b[0;34m[\u001b[0m\u001b[0mnumEpoch\u001b[0m\u001b[0;34m,\u001b[0m \u001b[0;36m2\u001b[0m\u001b[0;34m]\u001b[0m\u001b[0;34m)\u001b[0m\u001b[0;34m*\u001b[0m\u001b[0mnp\u001b[0m\u001b[0;34m.\u001b[0m\u001b[0mnan\u001b[0m\u001b[0;34m\u001b[0m\u001b[0;34m\u001b[0m\u001b[0m\n\u001b[1;32m      8\u001b[0m     \u001b[0;32mfor\u001b[0m \u001b[0mii\u001b[0m \u001b[0;32min\u001b[0m \u001b[0mrange\u001b[0m\u001b[0;34m(\u001b[0m\u001b[0;36m1\u001b[0m\u001b[0;34m,\u001b[0m \u001b[0mnumEpoch\u001b[0m \u001b[0;34m+\u001b[0m \u001b[0;36m1\u001b[0m\u001b[0;34m)\u001b[0m\u001b[0;34m:\u001b[0m\u001b[0;34m\u001b[0m\u001b[0;34m\u001b[0m\u001b[0m\n\u001b[0;32m----> 9\u001b[0;31m         \u001b[0mtrainStats\u001b[0m\u001b[0;34m[\u001b[0m\u001b[0mii\u001b[0m\u001b[0;34m-\u001b[0m\u001b[0;36m1\u001b[0m\u001b[0;34m]\u001b[0m\u001b[0;34m[\u001b[0m\u001b[0;36m0\u001b[0m\u001b[0;34m]\u001b[0m\u001b[0;34m,\u001b[0m \u001b[0mtrainStats\u001b[0m\u001b[0;34m[\u001b[0m\u001b[0mii\u001b[0m\u001b[0;34m-\u001b[0m\u001b[0;36m1\u001b[0m\u001b[0;34m]\u001b[0m\u001b[0;34m[\u001b[0m\u001b[0;36m1\u001b[0m\u001b[0;34m]\u001b[0m \u001b[0;34m=\u001b[0m \u001b[0mTRAIN\u001b[0m\u001b[0;34m(\u001b[0m\u001b[0mii\u001b[0m\u001b[0;34m,\u001b[0m \u001b[0mmodel\u001b[0m\u001b[0;34m,\u001b[0m \u001b[0mbce\u001b[0m\u001b[0;34m,\u001b[0m \u001b[0mtrainloader\u001b[0m\u001b[0;34m)\u001b[0m\u001b[0;34m\u001b[0m\u001b[0;34m\u001b[0m\u001b[0m\n\u001b[0m\u001b[1;32m     10\u001b[0m         \u001b[0mtestStats\u001b[0m\u001b[0;34m[\u001b[0m\u001b[0mii\u001b[0m\u001b[0;34m-\u001b[0m\u001b[0;36m1\u001b[0m\u001b[0;34m]\u001b[0m\u001b[0;34m[\u001b[0m\u001b[0;36m0\u001b[0m\u001b[0;34m]\u001b[0m\u001b[0;34m,\u001b[0m \u001b[0mtestStats\u001b[0m\u001b[0;34m[\u001b[0m\u001b[0mii\u001b[0m\u001b[0;34m-\u001b[0m\u001b[0;36m1\u001b[0m\u001b[0;34m]\u001b[0m\u001b[0;34m[\u001b[0m\u001b[0;36m1\u001b[0m\u001b[0;34m]\u001b[0m \u001b[0;34m=\u001b[0m \u001b[0mTEST\u001b[0m\u001b[0;34m(\u001b[0m\u001b[0mmodel\u001b[0m\u001b[0;34m,\u001b[0m \u001b[0mbce\u001b[0m\u001b[0;34m,\u001b[0m \u001b[0mtestloader\u001b[0m\u001b[0;34m)\u001b[0m\u001b[0;34m\u001b[0m\u001b[0;34m\u001b[0m\u001b[0m\n\u001b[1;32m     11\u001b[0m     \u001b[0;32mif\u001b[0m \u001b[0mgraph\u001b[0m\u001b[0;34m:\u001b[0m\u001b[0;34m\u001b[0m\u001b[0;34m\u001b[0m\u001b[0m\n",
      "\u001b[0;32m/var/folders/bt/709h7c513ld30l7ynqg_cv0c0000gn/T/ipykernel_9498/481162455.py\u001b[0m in \u001b[0;36mTRAIN\u001b[0;34m(epoch, model, lossF, train_loader)\u001b[0m\n\u001b[1;32m     44\u001b[0m         \u001b[0mlosses\u001b[0m\u001b[0;34m.\u001b[0m\u001b[0mappend\u001b[0m\u001b[0;34m(\u001b[0m\u001b[0mloss\u001b[0m\u001b[0;34m.\u001b[0m\u001b[0mitem\u001b[0m\u001b[0;34m(\u001b[0m\u001b[0;34m)\u001b[0m\u001b[0;34m)\u001b[0m\u001b[0;34m\u001b[0m\u001b[0;34m\u001b[0m\u001b[0m\n\u001b[1;32m     45\u001b[0m         \u001b[0;31m# backward pass through the cross-entropy loss function and the model\u001b[0m\u001b[0;34m\u001b[0m\u001b[0;34m\u001b[0m\u001b[0m\n\u001b[0;32m---> 46\u001b[0;31m         \u001b[0mloss\u001b[0m\u001b[0;34m.\u001b[0m\u001b[0mbackward\u001b[0m\u001b[0;34m(\u001b[0m\u001b[0;34m)\u001b[0m\u001b[0;34m\u001b[0m\u001b[0;34m\u001b[0m\u001b[0m\n\u001b[0m\u001b[1;32m     47\u001b[0m \u001b[0;34m\u001b[0m\u001b[0m\n\u001b[1;32m     48\u001b[0m         \u001b[0moptimizer\u001b[0m\u001b[0;34m.\u001b[0m\u001b[0mstep\u001b[0m\u001b[0;34m(\u001b[0m\u001b[0;34m)\u001b[0m\u001b[0;34m\u001b[0m\u001b[0;34m\u001b[0m\u001b[0m\n",
      "\u001b[0;32m/opt/anaconda3/lib/python3.9/site-packages/torch/_tensor.py\u001b[0m in \u001b[0;36mbackward\u001b[0;34m(self, gradient, retain_graph, create_graph, inputs)\u001b[0m\n\u001b[1;32m    361\u001b[0m                 \u001b[0mcreate_graph\u001b[0m\u001b[0;34m=\u001b[0m\u001b[0mcreate_graph\u001b[0m\u001b[0;34m,\u001b[0m\u001b[0;34m\u001b[0m\u001b[0;34m\u001b[0m\u001b[0m\n\u001b[1;32m    362\u001b[0m                 inputs=inputs)\n\u001b[0;32m--> 363\u001b[0;31m         \u001b[0mtorch\u001b[0m\u001b[0;34m.\u001b[0m\u001b[0mautograd\u001b[0m\u001b[0;34m.\u001b[0m\u001b[0mbackward\u001b[0m\u001b[0;34m(\u001b[0m\u001b[0mself\u001b[0m\u001b[0;34m,\u001b[0m \u001b[0mgradient\u001b[0m\u001b[0;34m,\u001b[0m \u001b[0mretain_graph\u001b[0m\u001b[0;34m,\u001b[0m \u001b[0mcreate_graph\u001b[0m\u001b[0;34m,\u001b[0m \u001b[0minputs\u001b[0m\u001b[0;34m=\u001b[0m\u001b[0minputs\u001b[0m\u001b[0;34m)\u001b[0m\u001b[0;34m\u001b[0m\u001b[0;34m\u001b[0m\u001b[0m\n\u001b[0m\u001b[1;32m    364\u001b[0m \u001b[0;34m\u001b[0m\u001b[0m\n\u001b[1;32m    365\u001b[0m     \u001b[0;32mdef\u001b[0m \u001b[0mregister_hook\u001b[0m\u001b[0;34m(\u001b[0m\u001b[0mself\u001b[0m\u001b[0;34m,\u001b[0m \u001b[0mhook\u001b[0m\u001b[0;34m)\u001b[0m\u001b[0;34m:\u001b[0m\u001b[0;34m\u001b[0m\u001b[0;34m\u001b[0m\u001b[0m\n",
      "\u001b[0;32m/opt/anaconda3/lib/python3.9/site-packages/torch/autograd/__init__.py\u001b[0m in \u001b[0;36mbackward\u001b[0;34m(tensors, grad_tensors, retain_graph, create_graph, grad_variables, inputs)\u001b[0m\n\u001b[1;32m    171\u001b[0m     \u001b[0;31m# some Python versions print out the first line of a multi-line function\u001b[0m\u001b[0;34m\u001b[0m\u001b[0;34m\u001b[0m\u001b[0m\n\u001b[1;32m    172\u001b[0m     \u001b[0;31m# calls in the traceback and some print out the last line\u001b[0m\u001b[0;34m\u001b[0m\u001b[0;34m\u001b[0m\u001b[0m\n\u001b[0;32m--> 173\u001b[0;31m     Variable._execution_engine.run_backward(  # Calls into the C++ engine to run the backward pass\n\u001b[0m\u001b[1;32m    174\u001b[0m         \u001b[0mtensors\u001b[0m\u001b[0;34m,\u001b[0m \u001b[0mgrad_tensors_\u001b[0m\u001b[0;34m,\u001b[0m \u001b[0mretain_graph\u001b[0m\u001b[0;34m,\u001b[0m \u001b[0mcreate_graph\u001b[0m\u001b[0;34m,\u001b[0m \u001b[0minputs\u001b[0m\u001b[0;34m,\u001b[0m\u001b[0;34m\u001b[0m\u001b[0;34m\u001b[0m\u001b[0m\n\u001b[1;32m    175\u001b[0m         allow_unreachable=True, accumulate_grad=True)  # Calls into the C++ engine to run the backward pass\n",
      "\u001b[0;31mKeyboardInterrupt\u001b[0m: "
     ]
    }
   ],
   "source": [
    "train, test = compareTrainTest(NN1Relu, 20, True)"
   ]
  },
  {
   "cell_type": "code",
   "execution_count": 6,
   "metadata": {},
   "outputs": [],
   "source": [
    "aucDf = pd.DataFrame(columns = ['Loss','AUC'])"
   ]
  },
  {
   "cell_type": "code",
   "execution_count": 74,
   "metadata": {},
   "outputs": [
    {
     "name": "stdout",
     "output_type": "stream",
     "text": [
      "Training NN1\n",
      "[EPOCH 0]\t[TRAIN LOSS]: 0.350535\t[TRAIN AUC]: 0.757773\n",
      "[EPOCH 1]\t[TRAIN LOSS]: 0.328050\t[TRAIN AUC]: 0.812932\n",
      "[EPOCH 2]\t[TRAIN LOSS]: 0.325209\t[TRAIN AUC]: 0.817166\n",
      "[EPOCH 3]\t[TRAIN LOSS]: 0.325323\t[TRAIN AUC]: 0.818022\n",
      "[EPOCH 4]\t[TRAIN LOSS]: 0.324413\t[TRAIN AUC]: 0.818161\n",
      "[EPOCH 5]\t[TRAIN LOSS]: 0.324447\t[TRAIN AUC]: 0.818463\n",
      "[EPOCH 6]\t[TRAIN LOSS]: 0.324908\t[TRAIN AUC]: 0.819281\n",
      "[EPOCH 7]\t[TRAIN LOSS]: 0.324319\t[TRAIN AUC]: 0.818900\n",
      "[EPOCH 8]\t[TRAIN LOSS]: 0.324321\t[TRAIN AUC]: 0.819569\n",
      "[EPOCH 9]\t[TRAIN LOSS]: 0.323483\t[TRAIN AUC]: 0.819461\n",
      "[EPOCH 10]\t[TRAIN LOSS]: 0.323495\t[TRAIN AUC]: 0.819084\n",
      "[TEST LOSS AVG]: 0.323567\t[TEST AUC AVG]: 0.819090\n",
      "Training NN2\n",
      "[EPOCH 0]\t[TRAIN LOSS]: 0.348735\t[TRAIN AUC]: 0.766187\n",
      "[EPOCH 1]\t[TRAIN LOSS]: 0.326895\t[TRAIN AUC]: 0.815456\n",
      "[EPOCH 2]\t[TRAIN LOSS]: 0.326004\t[TRAIN AUC]: 0.816961\n",
      "[EPOCH 3]\t[TRAIN LOSS]: 0.324436\t[TRAIN AUC]: 0.818814\n",
      "[EPOCH 4]\t[TRAIN LOSS]: 0.324236\t[TRAIN AUC]: 0.819102\n",
      "[EPOCH 5]\t[TRAIN LOSS]: 0.323847\t[TRAIN AUC]: 0.819305\n",
      "[EPOCH 6]\t[TRAIN LOSS]: 0.323304\t[TRAIN AUC]: 0.819825\n",
      "[EPOCH 7]\t[TRAIN LOSS]: 0.323284\t[TRAIN AUC]: 0.820291\n",
      "[EPOCH 8]\t[TRAIN LOSS]: 0.323228\t[TRAIN AUC]: 0.820362\n",
      "[EPOCH 9]\t[TRAIN LOSS]: 0.322756\t[TRAIN AUC]: 0.819633\n",
      "[EPOCH 10]\t[TRAIN LOSS]: 0.322854\t[TRAIN AUC]: 0.820314\n",
      "[TEST LOSS AVG]: 0.318296\t[TEST AUC AVG]: 0.819460\n",
      "Training NN3\n",
      "[EPOCH 0]\t[TRAIN LOSS]: 0.346208\t[TRAIN AUC]: 0.764858\n",
      "[EPOCH 1]\t[TRAIN LOSS]: 0.326397\t[TRAIN AUC]: 0.816378\n",
      "[EPOCH 2]\t[TRAIN LOSS]: 0.324462\t[TRAIN AUC]: 0.818514\n",
      "[EPOCH 3]\t[TRAIN LOSS]: 0.324048\t[TRAIN AUC]: 0.819721\n",
      "[EPOCH 4]\t[TRAIN LOSS]: 0.323821\t[TRAIN AUC]: 0.818858\n",
      "[EPOCH 5]\t[TRAIN LOSS]: 0.323875\t[TRAIN AUC]: 0.819810\n",
      "[EPOCH 6]\t[TRAIN LOSS]: 0.323355\t[TRAIN AUC]: 0.820048\n",
      "[EPOCH 7]\t[TRAIN LOSS]: 0.322790\t[TRAIN AUC]: 0.820317\n",
      "[EPOCH 8]\t[TRAIN LOSS]: 0.322968\t[TRAIN AUC]: 0.820966\n",
      "[EPOCH 9]\t[TRAIN LOSS]: 0.322403\t[TRAIN AUC]: 0.820250\n",
      "[EPOCH 10]\t[TRAIN LOSS]: 0.322452\t[TRAIN AUC]: 0.820488\n",
      "[TEST LOSS AVG]: 0.325157\t[TEST AUC AVG]: 0.819290\n",
      "Training NN1Relu\n",
      "[EPOCH 0]\t[TRAIN LOSS]: 0.322191\t[TRAIN AUC]: 0.819633\n",
      "[EPOCH 1]\t[TRAIN LOSS]: 0.321565\t[TRAIN AUC]: 0.821394\n",
      "[EPOCH 2]\t[TRAIN LOSS]: 0.320667\t[TRAIN AUC]: 0.822179\n",
      "[EPOCH 3]\t[TRAIN LOSS]: 0.319981\t[TRAIN AUC]: 0.822633\n",
      "[EPOCH 4]\t[TRAIN LOSS]: 0.319488\t[TRAIN AUC]: 0.823137\n",
      "[EPOCH 5]\t[TRAIN LOSS]: 0.318714\t[TRAIN AUC]: 0.823042\n",
      "[EPOCH 6]\t[TRAIN LOSS]: 0.318449\t[TRAIN AUC]: 0.823651\n",
      "[EPOCH 7]\t[TRAIN LOSS]: 0.318636\t[TRAIN AUC]: 0.823432\n",
      "[EPOCH 8]\t[TRAIN LOSS]: 0.318485\t[TRAIN AUC]: 0.824369\n",
      "[EPOCH 9]\t[TRAIN LOSS]: 0.318509\t[TRAIN AUC]: 0.824320\n",
      "[EPOCH 10]\t[TRAIN LOSS]: 0.318496\t[TRAIN AUC]: 0.824393\n",
      "[TEST LOSS AVG]: 0.315210\t[TEST AUC AVG]: 0.821718\n",
      "Training NN1Sig\n",
      "[EPOCH 0]\t[TRAIN LOSS]: 0.353785\t[TRAIN AUC]: 0.756427\n",
      "[EPOCH 1]\t[TRAIN LOSS]: 0.323943\t[TRAIN AUC]: 0.816758\n",
      "[EPOCH 2]\t[TRAIN LOSS]: 0.321218\t[TRAIN AUC]: 0.820306\n",
      "[EPOCH 3]\t[TRAIN LOSS]: 0.321054\t[TRAIN AUC]: 0.820358\n",
      "[EPOCH 4]\t[TRAIN LOSS]: 0.320159\t[TRAIN AUC]: 0.822074\n",
      "[EPOCH 5]\t[TRAIN LOSS]: 0.319865\t[TRAIN AUC]: 0.821599\n",
      "[EPOCH 6]\t[TRAIN LOSS]: 0.319641\t[TRAIN AUC]: 0.822170\n",
      "[EPOCH 7]\t[TRAIN LOSS]: 0.319601\t[TRAIN AUC]: 0.822737\n",
      "[EPOCH 8]\t[TRAIN LOSS]: 0.319420\t[TRAIN AUC]: 0.822131\n",
      "[EPOCH 9]\t[TRAIN LOSS]: 0.319368\t[TRAIN AUC]: 0.822607\n",
      "[EPOCH 10]\t[TRAIN LOSS]: 0.319262\t[TRAIN AUC]: 0.823225\n",
      "[TEST LOSS AVG]: 0.316110\t[TEST AUC AVG]: 0.820814\n",
      "Training NN2Sig\n",
      "[EPOCH 0]\t[TRAIN LOSS]: 0.369755\t[TRAIN AUC]: 0.744632\n",
      "[EPOCH 1]\t[TRAIN LOSS]: 0.325825\t[TRAIN AUC]: 0.815521\n",
      "[EPOCH 2]\t[TRAIN LOSS]: 0.322827\t[TRAIN AUC]: 0.819573\n",
      "[EPOCH 3]\t[TRAIN LOSS]: 0.321546\t[TRAIN AUC]: 0.819926\n",
      "[EPOCH 4]\t[TRAIN LOSS]: 0.321527\t[TRAIN AUC]: 0.820622\n",
      "[EPOCH 5]\t[TRAIN LOSS]: 0.321575\t[TRAIN AUC]: 0.820061\n",
      "[EPOCH 6]\t[TRAIN LOSS]: 0.320743\t[TRAIN AUC]: 0.821443\n",
      "[EPOCH 7]\t[TRAIN LOSS]: 0.320870\t[TRAIN AUC]: 0.821629\n",
      "[EPOCH 8]\t[TRAIN LOSS]: 0.320042\t[TRAIN AUC]: 0.822032\n",
      "[EPOCH 9]\t[TRAIN LOSS]: 0.320189\t[TRAIN AUC]: 0.821585\n",
      "[EPOCH 10]\t[TRAIN LOSS]: 0.319846\t[TRAIN AUC]: 0.822887\n",
      "[TEST LOSS AVG]: 0.323692\t[TEST AUC AVG]: 0.818128\n",
      "Training NN3Sig\n",
      "[EPOCH 0]\t[TRAIN LOSS]: 0.398477\t[TRAIN AUC]: 0.678439\n",
      "[EPOCH 1]\t[TRAIN LOSS]: 0.332615\t[TRAIN AUC]: 0.809640\n",
      "[EPOCH 2]\t[TRAIN LOSS]: 0.323844\t[TRAIN AUC]: 0.818476\n",
      "[EPOCH 3]\t[TRAIN LOSS]: 0.322897\t[TRAIN AUC]: 0.819931\n",
      "[EPOCH 4]\t[TRAIN LOSS]: 0.322831\t[TRAIN AUC]: 0.819894\n",
      "[EPOCH 5]\t[TRAIN LOSS]: 0.322202\t[TRAIN AUC]: 0.820288\n",
      "[EPOCH 6]\t[TRAIN LOSS]: 0.322179\t[TRAIN AUC]: 0.820549\n",
      "[EPOCH 7]\t[TRAIN LOSS]: 0.322003\t[TRAIN AUC]: 0.821259\n",
      "[EPOCH 8]\t[TRAIN LOSS]: 0.321414\t[TRAIN AUC]: 0.821457\n",
      "[EPOCH 9]\t[TRAIN LOSS]: 0.321494\t[TRAIN AUC]: 0.821816\n",
      "[EPOCH 10]\t[TRAIN LOSS]: 0.320944\t[TRAIN AUC]: 0.822207\n",
      "[TEST LOSS AVG]: 0.320078\t[TEST AUC AVG]: 0.822045\n",
      "Training NN2Relu\n",
      "[EPOCH 0]\t[TRAIN LOSS]: 0.351957\t[TRAIN AUC]: 0.744149\n",
      "[EPOCH 1]\t[TRAIN LOSS]: 0.322309\t[TRAIN AUC]: 0.818611\n",
      "[EPOCH 2]\t[TRAIN LOSS]: 0.320168\t[TRAIN AUC]: 0.821981\n",
      "[EPOCH 3]\t[TRAIN LOSS]: 0.319203\t[TRAIN AUC]: 0.823129\n",
      "[EPOCH 4]\t[TRAIN LOSS]: 0.318988\t[TRAIN AUC]: 0.824374\n",
      "[EPOCH 5]\t[TRAIN LOSS]: 0.318677\t[TRAIN AUC]: 0.824452\n",
      "[EPOCH 6]\t[TRAIN LOSS]: 0.317480\t[TRAIN AUC]: 0.824653\n",
      "[EPOCH 7]\t[TRAIN LOSS]: 0.317746\t[TRAIN AUC]: 0.825263\n",
      "[EPOCH 8]\t[TRAIN LOSS]: 0.317772\t[TRAIN AUC]: 0.825402\n",
      "[EPOCH 9]\t[TRAIN LOSS]: 0.317491\t[TRAIN AUC]: 0.825902\n",
      "[EPOCH 10]\t[TRAIN LOSS]: 0.317506\t[TRAIN AUC]: 0.825623\n",
      "[TEST LOSS AVG]: 0.313120\t[TEST AUC AVG]: 0.824868\n",
      "Training NN3Relu\n",
      "[EPOCH 0]\t[TRAIN LOSS]: 0.350459\t[TRAIN AUC]: 0.749807\n",
      "[EPOCH 1]\t[TRAIN LOSS]: 0.323763\t[TRAIN AUC]: 0.818346\n",
      "[EPOCH 2]\t[TRAIN LOSS]: 0.321737\t[TRAIN AUC]: 0.820658\n",
      "[EPOCH 3]\t[TRAIN LOSS]: 0.320499\t[TRAIN AUC]: 0.822228\n",
      "[EPOCH 4]\t[TRAIN LOSS]: 0.319201\t[TRAIN AUC]: 0.822898\n",
      "[EPOCH 5]\t[TRAIN LOSS]: 0.319671\t[TRAIN AUC]: 0.823666\n",
      "[EPOCH 6]\t[TRAIN LOSS]: 0.319527\t[TRAIN AUC]: 0.823996\n",
      "[EPOCH 7]\t[TRAIN LOSS]: 0.318359\t[TRAIN AUC]: 0.824179\n",
      "[EPOCH 8]\t[TRAIN LOSS]: 0.318464\t[TRAIN AUC]: 0.825009\n",
      "[EPOCH 9]\t[TRAIN LOSS]: 0.317660\t[TRAIN AUC]: 0.825134\n",
      "[EPOCH 10]\t[TRAIN LOSS]: 0.318256\t[TRAIN AUC]: 0.825350\n",
      "[TEST LOSS AVG]: 0.313370\t[TEST AUC AVG]: 0.824686\n",
      "Training NN1\n",
      "[EPOCH 0]\t[TRAIN LOSS]: 0.323328\t[TRAIN AUC]: 0.818862\n",
      "[EPOCH 1]\t[TRAIN LOSS]: 0.323668\t[TRAIN AUC]: 0.818571\n",
      "[EPOCH 2]\t[TRAIN LOSS]: 0.323553\t[TRAIN AUC]: 0.819213\n",
      "[EPOCH 3]\t[TRAIN LOSS]: 0.323447\t[TRAIN AUC]: 0.818645\n",
      "[EPOCH 4]\t[TRAIN LOSS]: 0.323455\t[TRAIN AUC]: 0.818850\n",
      "[EPOCH 5]\t[TRAIN LOSS]: 0.323209\t[TRAIN AUC]: 0.818635\n",
      "[EPOCH 6]\t[TRAIN LOSS]: 0.323608\t[TRAIN AUC]: 0.819126\n",
      "[EPOCH 7]\t[TRAIN LOSS]: 0.323352\t[TRAIN AUC]: 0.818534\n",
      "[EPOCH 8]\t[TRAIN LOSS]: 0.323080\t[TRAIN AUC]: 0.819095\n",
      "[EPOCH 9]\t[TRAIN LOSS]: 0.322954\t[TRAIN AUC]: 0.818668\n",
      "[EPOCH 10]\t[TRAIN LOSS]: 0.323165\t[TRAIN AUC]: 0.819108\n",
      "[TEST LOSS AVG]: 0.318898\t[TEST AUC AVG]: 0.821441\n",
      "Training NN2\n",
      "[EPOCH 0]\t[TRAIN LOSS]: 0.322816\t[TRAIN AUC]: 0.819236\n",
      "[EPOCH 1]\t[TRAIN LOSS]: 0.322785\t[TRAIN AUC]: 0.819611\n",
      "[EPOCH 2]\t[TRAIN LOSS]: 0.322698\t[TRAIN AUC]: 0.819620\n",
      "[EPOCH 3]\t[TRAIN LOSS]: 0.322252\t[TRAIN AUC]: 0.819373\n",
      "[EPOCH 4]\t[TRAIN LOSS]: 0.322988\t[TRAIN AUC]: 0.819428\n",
      "[EPOCH 5]\t[TRAIN LOSS]: 0.321878\t[TRAIN AUC]: 0.819846\n",
      "[EPOCH 6]\t[TRAIN LOSS]: 0.322921\t[TRAIN AUC]: 0.819491\n",
      "[EPOCH 7]\t[TRAIN LOSS]: 0.322541\t[TRAIN AUC]: 0.819859\n",
      "[EPOCH 8]\t[TRAIN LOSS]: 0.321734\t[TRAIN AUC]: 0.820091\n",
      "[EPOCH 9]\t[TRAIN LOSS]: 0.321434\t[TRAIN AUC]: 0.820093\n",
      "[EPOCH 10]\t[TRAIN LOSS]: 0.322073\t[TRAIN AUC]: 0.820029\n",
      "[TEST LOSS AVG]: 0.317783\t[TEST AUC AVG]: 0.824589\n",
      "Training NN3\n",
      "[EPOCH 0]\t[TRAIN LOSS]: 0.322540\t[TRAIN AUC]: 0.819068\n",
      "[EPOCH 1]\t[TRAIN LOSS]: 0.322210\t[TRAIN AUC]: 0.819774\n",
      "[EPOCH 2]\t[TRAIN LOSS]: 0.322468\t[TRAIN AUC]: 0.819993\n",
      "[EPOCH 3]\t[TRAIN LOSS]: 0.321917\t[TRAIN AUC]: 0.819796\n",
      "[EPOCH 4]\t[TRAIN LOSS]: 0.321972\t[TRAIN AUC]: 0.819930\n",
      "[EPOCH 5]\t[TRAIN LOSS]: 0.322518\t[TRAIN AUC]: 0.819544\n",
      "[EPOCH 6]\t[TRAIN LOSS]: 0.321611\t[TRAIN AUC]: 0.820635\n",
      "[EPOCH 7]\t[TRAIN LOSS]: 0.322421\t[TRAIN AUC]: 0.819717\n",
      "[EPOCH 8]\t[TRAIN LOSS]: 0.322220\t[TRAIN AUC]: 0.820013\n",
      "[EPOCH 9]\t[TRAIN LOSS]: 0.321892\t[TRAIN AUC]: 0.819466\n",
      "[EPOCH 10]\t[TRAIN LOSS]: 0.321720\t[TRAIN AUC]: 0.820079\n",
      "[TEST LOSS AVG]: 0.316936\t[TEST AUC AVG]: 0.823757\n",
      "Training NN1Relu\n",
      "[EPOCH 0]\t[TRAIN LOSS]: 0.318014\t[TRAIN AUC]: 0.824380\n",
      "[EPOCH 1]\t[TRAIN LOSS]: 0.318049\t[TRAIN AUC]: 0.824235\n",
      "[EPOCH 2]\t[TRAIN LOSS]: 0.317912\t[TRAIN AUC]: 0.823917\n",
      "[EPOCH 3]\t[TRAIN LOSS]: 0.318241\t[TRAIN AUC]: 0.823848\n",
      "[EPOCH 4]\t[TRAIN LOSS]: 0.317925\t[TRAIN AUC]: 0.824202\n",
      "[EPOCH 5]\t[TRAIN LOSS]: 0.317799\t[TRAIN AUC]: 0.823676\n",
      "[EPOCH 6]\t[TRAIN LOSS]: 0.317586\t[TRAIN AUC]: 0.823898\n",
      "[EPOCH 7]\t[TRAIN LOSS]: 0.317232\t[TRAIN AUC]: 0.824618\n",
      "[EPOCH 8]\t[TRAIN LOSS]: 0.317195\t[TRAIN AUC]: 0.824207\n",
      "[EPOCH 9]\t[TRAIN LOSS]: 0.317431\t[TRAIN AUC]: 0.824262\n",
      "[EPOCH 10]\t[TRAIN LOSS]: 0.317302\t[TRAIN AUC]: 0.824704\n",
      "[TEST LOSS AVG]: 0.312814\t[TEST AUC AVG]: 0.827087\n",
      "Training NN1Sig\n",
      "[EPOCH 0]\t[TRAIN LOSS]: 0.319396\t[TRAIN AUC]: 0.821034\n",
      "[EPOCH 1]\t[TRAIN LOSS]: 0.319271\t[TRAIN AUC]: 0.822147\n",
      "[EPOCH 2]\t[TRAIN LOSS]: 0.319476\t[TRAIN AUC]: 0.821881\n",
      "[EPOCH 3]\t[TRAIN LOSS]: 0.319176\t[TRAIN AUC]: 0.821776\n",
      "[EPOCH 4]\t[TRAIN LOSS]: 0.318968\t[TRAIN AUC]: 0.821561\n",
      "[EPOCH 5]\t[TRAIN LOSS]: 0.318881\t[TRAIN AUC]: 0.822394\n",
      "[EPOCH 6]\t[TRAIN LOSS]: 0.318913\t[TRAIN AUC]: 0.822309\n",
      "[EPOCH 7]\t[TRAIN LOSS]: 0.319000\t[TRAIN AUC]: 0.822091\n",
      "[EPOCH 8]\t[TRAIN LOSS]: 0.319421\t[TRAIN AUC]: 0.821981\n",
      "[EPOCH 9]\t[TRAIN LOSS]: 0.319099\t[TRAIN AUC]: 0.822390\n",
      "[EPOCH 10]\t[TRAIN LOSS]: 0.319418\t[TRAIN AUC]: 0.822008\n",
      "[TEST LOSS AVG]: 0.314531\t[TEST AUC AVG]: 0.825845\n",
      "Training NN2Sig\n",
      "[EPOCH 0]\t[TRAIN LOSS]: 0.320184\t[TRAIN AUC]: 0.821104\n",
      "[EPOCH 1]\t[TRAIN LOSS]: 0.320472\t[TRAIN AUC]: 0.821315\n",
      "[EPOCH 2]\t[TRAIN LOSS]: 0.320216\t[TRAIN AUC]: 0.821592\n",
      "[EPOCH 3]\t[TRAIN LOSS]: 0.320259\t[TRAIN AUC]: 0.821896\n",
      "[EPOCH 4]\t[TRAIN LOSS]: 0.320304\t[TRAIN AUC]: 0.821233\n",
      "[EPOCH 5]\t[TRAIN LOSS]: 0.320235\t[TRAIN AUC]: 0.821954\n",
      "[EPOCH 6]\t[TRAIN LOSS]: 0.320082\t[TRAIN AUC]: 0.821816\n",
      "[EPOCH 7]\t[TRAIN LOSS]: 0.319762\t[TRAIN AUC]: 0.821150\n",
      "[EPOCH 8]\t[TRAIN LOSS]: 0.319888\t[TRAIN AUC]: 0.822186\n",
      "[EPOCH 9]\t[TRAIN LOSS]: 0.319783\t[TRAIN AUC]: 0.821753\n",
      "[EPOCH 10]\t[TRAIN LOSS]: 0.319801\t[TRAIN AUC]: 0.822279\n",
      "[TEST LOSS AVG]: 0.315231\t[TEST AUC AVG]: 0.825829\n",
      "Training NN3Sig\n",
      "[EPOCH 0]\t[TRAIN LOSS]: 0.321293\t[TRAIN AUC]: 0.820867\n",
      "[EPOCH 1]\t[TRAIN LOSS]: 0.320689\t[TRAIN AUC]: 0.820639\n",
      "[EPOCH 2]\t[TRAIN LOSS]: 0.320683\t[TRAIN AUC]: 0.821127\n",
      "[EPOCH 3]\t[TRAIN LOSS]: 0.320982\t[TRAIN AUC]: 0.821169\n",
      "[EPOCH 4]\t[TRAIN LOSS]: 0.321182\t[TRAIN AUC]: 0.820850\n",
      "[EPOCH 5]\t[TRAIN LOSS]: 0.321861\t[TRAIN AUC]: 0.820713\n",
      "[EPOCH 6]\t[TRAIN LOSS]: 0.320755\t[TRAIN AUC]: 0.820896\n",
      "[EPOCH 7]\t[TRAIN LOSS]: 0.321419\t[TRAIN AUC]: 0.822066\n",
      "[EPOCH 8]\t[TRAIN LOSS]: 0.321157\t[TRAIN AUC]: 0.820620\n",
      "[EPOCH 9]\t[TRAIN LOSS]: 0.320721\t[TRAIN AUC]: 0.821711\n",
      "[EPOCH 10]\t[TRAIN LOSS]: 0.320987\t[TRAIN AUC]: 0.821231\n",
      "[TEST LOSS AVG]: 0.315806\t[TEST AUC AVG]: 0.825643\n",
      "Training NN2Relu\n",
      "[EPOCH 0]\t[TRAIN LOSS]: 0.317545\t[TRAIN AUC]: 0.824810\n",
      "[EPOCH 1]\t[TRAIN LOSS]: 0.317155\t[TRAIN AUC]: 0.825029\n",
      "[EPOCH 2]\t[TRAIN LOSS]: 0.317992\t[TRAIN AUC]: 0.825563\n",
      "[EPOCH 3]\t[TRAIN LOSS]: 0.316659\t[TRAIN AUC]: 0.825403\n",
      "[EPOCH 4]\t[TRAIN LOSS]: 0.317071\t[TRAIN AUC]: 0.824485\n",
      "[EPOCH 5]\t[TRAIN LOSS]: 0.316309\t[TRAIN AUC]: 0.825478\n",
      "[EPOCH 6]\t[TRAIN LOSS]: 0.316778\t[TRAIN AUC]: 0.824991\n",
      "[EPOCH 7]\t[TRAIN LOSS]: 0.316855\t[TRAIN AUC]: 0.825619\n",
      "[EPOCH 8]\t[TRAIN LOSS]: 0.317104\t[TRAIN AUC]: 0.825048\n",
      "[EPOCH 9]\t[TRAIN LOSS]: 0.316932\t[TRAIN AUC]: 0.824840\n",
      "[EPOCH 10]\t[TRAIN LOSS]: 0.316249\t[TRAIN AUC]: 0.825512\n",
      "[TEST LOSS AVG]: 0.312587\t[TEST AUC AVG]: 0.829181\n",
      "Training NN3Relu\n",
      "[EPOCH 0]\t[TRAIN LOSS]: 0.317697\t[TRAIN AUC]: 0.824278\n",
      "[EPOCH 1]\t[TRAIN LOSS]: 0.318015\t[TRAIN AUC]: 0.824302\n",
      "[EPOCH 2]\t[TRAIN LOSS]: 0.317706\t[TRAIN AUC]: 0.825523\n",
      "[EPOCH 3]\t[TRAIN LOSS]: 0.317308\t[TRAIN AUC]: 0.824704\n",
      "[EPOCH 4]\t[TRAIN LOSS]: 0.318041\t[TRAIN AUC]: 0.824732\n",
      "[EPOCH 5]\t[TRAIN LOSS]: 0.317153\t[TRAIN AUC]: 0.824863\n",
      "[EPOCH 6]\t[TRAIN LOSS]: 0.317156\t[TRAIN AUC]: 0.825639\n",
      "[EPOCH 7]\t[TRAIN LOSS]: 0.316834\t[TRAIN AUC]: 0.825401\n",
      "[EPOCH 8]\t[TRAIN LOSS]: 0.317055\t[TRAIN AUC]: 0.825066\n",
      "[EPOCH 9]\t[TRAIN LOSS]: 0.316640\t[TRAIN AUC]: 0.825749\n",
      "[EPOCH 10]\t[TRAIN LOSS]: 0.316871\t[TRAIN AUC]: 0.825602\n",
      "[TEST LOSS AVG]: 0.312860\t[TEST AUC AVG]: 0.828912\n",
      "Training NN1\n",
      "[EPOCH 0]\t[TRAIN LOSS]: 0.323430\t[TRAIN AUC]: 0.818705\n",
      "[EPOCH 1]\t[TRAIN LOSS]: 0.322989\t[TRAIN AUC]: 0.818621\n",
      "[EPOCH 2]\t[TRAIN LOSS]: 0.322824\t[TRAIN AUC]: 0.819533\n",
      "[EPOCH 3]\t[TRAIN LOSS]: 0.323123\t[TRAIN AUC]: 0.818914\n",
      "[EPOCH 4]\t[TRAIN LOSS]: 0.323507\t[TRAIN AUC]: 0.819193\n",
      "[EPOCH 5]\t[TRAIN LOSS]: 0.322822\t[TRAIN AUC]: 0.818852\n",
      "[EPOCH 6]\t[TRAIN LOSS]: 0.323113\t[TRAIN AUC]: 0.818938\n",
      "[EPOCH 7]\t[TRAIN LOSS]: 0.322916\t[TRAIN AUC]: 0.819607\n",
      "[EPOCH 8]\t[TRAIN LOSS]: 0.322892\t[TRAIN AUC]: 0.819135\n",
      "[EPOCH 9]\t[TRAIN LOSS]: 0.322756\t[TRAIN AUC]: 0.819242\n",
      "[EPOCH 10]\t[TRAIN LOSS]: 0.323152\t[TRAIN AUC]: 0.819163\n",
      "[TEST LOSS AVG]: 0.318701\t[TEST AUC AVG]: 0.824629\n",
      "Training NN2\n",
      "[EPOCH 0]\t[TRAIN LOSS]: 0.322347\t[TRAIN AUC]: 0.819881\n",
      "[EPOCH 1]\t[TRAIN LOSS]: 0.322654\t[TRAIN AUC]: 0.819214\n",
      "[EPOCH 2]\t[TRAIN LOSS]: 0.321758\t[TRAIN AUC]: 0.819495\n",
      "[EPOCH 3]\t[TRAIN LOSS]: 0.321829\t[TRAIN AUC]: 0.819492\n",
      "[EPOCH 4]\t[TRAIN LOSS]: 0.322516\t[TRAIN AUC]: 0.819630\n",
      "[EPOCH 5]\t[TRAIN LOSS]: 0.321934\t[TRAIN AUC]: 0.819868\n",
      "[EPOCH 6]\t[TRAIN LOSS]: 0.321599\t[TRAIN AUC]: 0.820660\n",
      "[EPOCH 7]\t[TRAIN LOSS]: 0.321858\t[TRAIN AUC]: 0.820425\n",
      "[EPOCH 8]\t[TRAIN LOSS]: 0.321703\t[TRAIN AUC]: 0.820634\n",
      "[EPOCH 9]\t[TRAIN LOSS]: 0.321807\t[TRAIN AUC]: 0.820027\n",
      "[EPOCH 10]\t[TRAIN LOSS]: 0.321776\t[TRAIN AUC]: 0.819989\n",
      "[TEST LOSS AVG]: 0.319572\t[TEST AUC AVG]: 0.824361\n",
      "Training NN3\n",
      "[EPOCH 0]\t[TRAIN LOSS]: 0.322081\t[TRAIN AUC]: 0.820061\n",
      "[EPOCH 1]\t[TRAIN LOSS]: 0.322319\t[TRAIN AUC]: 0.819743\n",
      "[EPOCH 2]\t[TRAIN LOSS]: 0.322444\t[TRAIN AUC]: 0.820549\n",
      "[EPOCH 3]\t[TRAIN LOSS]: 0.322470\t[TRAIN AUC]: 0.819123\n",
      "[EPOCH 4]\t[TRAIN LOSS]: 0.321812\t[TRAIN AUC]: 0.819578\n",
      "[EPOCH 5]\t[TRAIN LOSS]: 0.322171\t[TRAIN AUC]: 0.820232\n",
      "[EPOCH 6]\t[TRAIN LOSS]: 0.321996\t[TRAIN AUC]: 0.820319\n",
      "[EPOCH 7]\t[TRAIN LOSS]: 0.322464\t[TRAIN AUC]: 0.819800\n",
      "[EPOCH 8]\t[TRAIN LOSS]: 0.321747\t[TRAIN AUC]: 0.819900\n",
      "[EPOCH 9]\t[TRAIN LOSS]: 0.321949\t[TRAIN AUC]: 0.819346\n",
      "[EPOCH 10]\t[TRAIN LOSS]: 0.322150\t[TRAIN AUC]: 0.820288\n",
      "[TEST LOSS AVG]: 0.318936\t[TEST AUC AVG]: 0.824359\n",
      "Training NN1Relu\n",
      "[EPOCH 0]\t[TRAIN LOSS]: 0.318426\t[TRAIN AUC]: 0.823300\n",
      "[EPOCH 1]\t[TRAIN LOSS]: 0.317712\t[TRAIN AUC]: 0.824550\n",
      "[EPOCH 2]\t[TRAIN LOSS]: 0.317780\t[TRAIN AUC]: 0.824403\n",
      "[EPOCH 3]\t[TRAIN LOSS]: 0.318433\t[TRAIN AUC]: 0.824302\n",
      "[EPOCH 4]\t[TRAIN LOSS]: 0.317702\t[TRAIN AUC]: 0.823981\n",
      "[EPOCH 5]\t[TRAIN LOSS]: 0.317221\t[TRAIN AUC]: 0.824684\n",
      "[EPOCH 6]\t[TRAIN LOSS]: 0.317242\t[TRAIN AUC]: 0.825096\n",
      "[EPOCH 7]\t[TRAIN LOSS]: 0.317586\t[TRAIN AUC]: 0.824584\n",
      "[EPOCH 8]\t[TRAIN LOSS]: 0.317329\t[TRAIN AUC]: 0.824358\n",
      "[EPOCH 9]\t[TRAIN LOSS]: 0.317322\t[TRAIN AUC]: 0.824097\n",
      "[EPOCH 10]\t[TRAIN LOSS]: 0.317145\t[TRAIN AUC]: 0.825011\n",
      "[TEST LOSS AVG]: 0.314845\t[TEST AUC AVG]: 0.827644\n",
      "Training NN1Sig\n",
      "[EPOCH 0]\t[TRAIN LOSS]: 0.319792\t[TRAIN AUC]: 0.821697\n",
      "[EPOCH 1]\t[TRAIN LOSS]: 0.319887\t[TRAIN AUC]: 0.822258\n",
      "[EPOCH 2]\t[TRAIN LOSS]: 0.319836\t[TRAIN AUC]: 0.821335\n",
      "[EPOCH 3]\t[TRAIN LOSS]: 0.319704\t[TRAIN AUC]: 0.821323\n",
      "[EPOCH 4]\t[TRAIN LOSS]: 0.319747\t[TRAIN AUC]: 0.821520\n",
      "[EPOCH 5]\t[TRAIN LOSS]: 0.319856\t[TRAIN AUC]: 0.821497\n",
      "[EPOCH 6]\t[TRAIN LOSS]: 0.319772\t[TRAIN AUC]: 0.821774\n",
      "[EPOCH 7]\t[TRAIN LOSS]: 0.319705\t[TRAIN AUC]: 0.821857\n",
      "[EPOCH 8]\t[TRAIN LOSS]: 0.319936\t[TRAIN AUC]: 0.821766\n",
      "[EPOCH 9]\t[TRAIN LOSS]: 0.319806\t[TRAIN AUC]: 0.821765\n",
      "[EPOCH 10]\t[TRAIN LOSS]: 0.320249\t[TRAIN AUC]: 0.820956\n",
      "[TEST LOSS AVG]: 0.316021\t[TEST AUC AVG]: 0.826169\n",
      "Training NN2Sig\n",
      "[EPOCH 0]\t[TRAIN LOSS]: 0.320443\t[TRAIN AUC]: 0.821214\n",
      "[EPOCH 1]\t[TRAIN LOSS]: 0.321289\t[TRAIN AUC]: 0.820823\n",
      "[EPOCH 2]\t[TRAIN LOSS]: 0.320635\t[TRAIN AUC]: 0.820749\n",
      "[EPOCH 3]\t[TRAIN LOSS]: 0.320606\t[TRAIN AUC]: 0.821437\n",
      "[EPOCH 4]\t[TRAIN LOSS]: 0.321003\t[TRAIN AUC]: 0.821426\n",
      "[EPOCH 5]\t[TRAIN LOSS]: 0.320614\t[TRAIN AUC]: 0.820878\n",
      "[EPOCH 6]\t[TRAIN LOSS]: 0.320571\t[TRAIN AUC]: 0.820843\n",
      "[EPOCH 7]\t[TRAIN LOSS]: 0.320691\t[TRAIN AUC]: 0.821013\n",
      "[EPOCH 8]\t[TRAIN LOSS]: 0.320198\t[TRAIN AUC]: 0.821356\n",
      "[EPOCH 9]\t[TRAIN LOSS]: 0.320808\t[TRAIN AUC]: 0.821167\n",
      "[EPOCH 10]\t[TRAIN LOSS]: 0.320673\t[TRAIN AUC]: 0.821142\n",
      "[TEST LOSS AVG]: 0.315232\t[TEST AUC AVG]: 0.826394\n",
      "Training NN3Sig\n",
      "[EPOCH 0]\t[TRAIN LOSS]: 0.321491\t[TRAIN AUC]: 0.819922\n",
      "[EPOCH 1]\t[TRAIN LOSS]: 0.321338\t[TRAIN AUC]: 0.820323\n",
      "[EPOCH 2]\t[TRAIN LOSS]: 0.321805\t[TRAIN AUC]: 0.820628\n",
      "[EPOCH 3]\t[TRAIN LOSS]: 0.321959\t[TRAIN AUC]: 0.820305\n",
      "[EPOCH 4]\t[TRAIN LOSS]: 0.321502\t[TRAIN AUC]: 0.820537\n",
      "[EPOCH 5]\t[TRAIN LOSS]: 0.321782\t[TRAIN AUC]: 0.821362\n",
      "[EPOCH 6]\t[TRAIN LOSS]: 0.322019\t[TRAIN AUC]: 0.820883\n",
      "[EPOCH 7]\t[TRAIN LOSS]: 0.322157\t[TRAIN AUC]: 0.821133\n",
      "[EPOCH 8]\t[TRAIN LOSS]: 0.321249\t[TRAIN AUC]: 0.820496\n",
      "[EPOCH 9]\t[TRAIN LOSS]: 0.321791\t[TRAIN AUC]: 0.820150\n",
      "[EPOCH 10]\t[TRAIN LOSS]: 0.321635\t[TRAIN AUC]: 0.820694\n",
      "[TEST LOSS AVG]: 0.318477\t[TEST AUC AVG]: 0.823772\n",
      "Training NN2Relu\n",
      "[EPOCH 0]\t[TRAIN LOSS]: 0.316890\t[TRAIN AUC]: 0.825667\n",
      "[EPOCH 1]\t[TRAIN LOSS]: 0.317200\t[TRAIN AUC]: 0.824851\n",
      "[EPOCH 2]\t[TRAIN LOSS]: 0.316964\t[TRAIN AUC]: 0.825367\n",
      "[EPOCH 3]\t[TRAIN LOSS]: 0.317314\t[TRAIN AUC]: 0.824446\n",
      "[EPOCH 4]\t[TRAIN LOSS]: 0.317549\t[TRAIN AUC]: 0.825299\n",
      "[EPOCH 5]\t[TRAIN LOSS]: 0.317608\t[TRAIN AUC]: 0.825067\n",
      "[EPOCH 6]\t[TRAIN LOSS]: 0.317046\t[TRAIN AUC]: 0.825122\n",
      "[EPOCH 7]\t[TRAIN LOSS]: 0.317063\t[TRAIN AUC]: 0.825711\n",
      "[EPOCH 8]\t[TRAIN LOSS]: 0.316951\t[TRAIN AUC]: 0.825285\n",
      "[EPOCH 9]\t[TRAIN LOSS]: 0.316919\t[TRAIN AUC]: 0.825228\n",
      "[EPOCH 10]\t[TRAIN LOSS]: 0.317892\t[TRAIN AUC]: 0.824588\n",
      "[TEST LOSS AVG]: 0.316931\t[TEST AUC AVG]: 0.826414\n",
      "Training NN3Relu\n",
      "[EPOCH 0]\t[TRAIN LOSS]: 0.317014\t[TRAIN AUC]: 0.824684\n",
      "[EPOCH 1]\t[TRAIN LOSS]: 0.318247\t[TRAIN AUC]: 0.825042\n",
      "[EPOCH 2]\t[TRAIN LOSS]: 0.317206\t[TRAIN AUC]: 0.825430\n",
      "[EPOCH 3]\t[TRAIN LOSS]: 0.317444\t[TRAIN AUC]: 0.824863\n",
      "[EPOCH 4]\t[TRAIN LOSS]: 0.317290\t[TRAIN AUC]: 0.825733\n",
      "[EPOCH 5]\t[TRAIN LOSS]: 0.317224\t[TRAIN AUC]: 0.825518\n",
      "[EPOCH 6]\t[TRAIN LOSS]: 0.317338\t[TRAIN AUC]: 0.825364\n",
      "[EPOCH 7]\t[TRAIN LOSS]: 0.316859\t[TRAIN AUC]: 0.825288\n",
      "[EPOCH 8]\t[TRAIN LOSS]: 0.317130\t[TRAIN AUC]: 0.825630\n",
      "[EPOCH 9]\t[TRAIN LOSS]: 0.317343\t[TRAIN AUC]: 0.825439\n",
      "[EPOCH 10]\t[TRAIN LOSS]: 0.317239\t[TRAIN AUC]: 0.824633\n",
      "[TEST LOSS AVG]: 0.317991\t[TEST AUC AVG]: 0.826605\n"
     ]
    }
   ],
   "source": [
    "rs = [42, 68, 128]\n",
    "for z in rs:\n",
    "    trainloader, testloader, valloader = getLoaders(z)\n",
    "    for ii in Q2Dic.keys():\n",
    "        print('Training %s' % ii)\n",
    "        model = Q2Dic[ii]\n",
    "        for jj in range(11):\n",
    "            TRAIN(jj, model, bce, trainloader)\n",
    "        temp = TEST(model, bce, valloader)\n",
    "        aucDf.loc[ii + '_RS_{}'.format(z), 'Loss'] = temp[0]\n",
    "        aucDf.loc[ii+ '_RS_{}'.format(z), 'AUC'] = temp[1]"
   ]
  },
  {
   "cell_type": "code",
   "execution_count": 99,
   "metadata": {},
   "outputs": [
    {
     "name": "stdout",
     "output_type": "stream",
     "text": [
      "[EPOCH 0]\t[TRAIN LOSS]: 0.358396\t[TRAIN AUC]: 0.761803\n",
      "[EPOCH 1]\t[TRAIN LOSS]: 0.324618\t[TRAIN AUC]: 0.816193\n",
      "[EPOCH 2]\t[TRAIN LOSS]: 0.321387\t[TRAIN AUC]: 0.819640\n",
      "[EPOCH 3]\t[TRAIN LOSS]: 0.320439\t[TRAIN AUC]: 0.821302\n",
      "[EPOCH 4]\t[TRAIN LOSS]: 0.319769\t[TRAIN AUC]: 0.821571\n",
      "[EPOCH 5]\t[TRAIN LOSS]: 0.319973\t[TRAIN AUC]: 0.822260\n",
      "[EPOCH 6]\t[TRAIN LOSS]: 0.319682\t[TRAIN AUC]: 0.821733\n",
      "[EPOCH 7]\t[TRAIN LOSS]: 0.319210\t[TRAIN AUC]: 0.822413\n",
      "[EPOCH 8]\t[TRAIN LOSS]: 0.319250\t[TRAIN AUC]: 0.822166\n",
      "[EPOCH 9]\t[TRAIN LOSS]: 0.319335\t[TRAIN AUC]: 0.822833\n",
      "[EPOCH 10]\t[TRAIN LOSS]: 0.319100\t[TRAIN AUC]: 0.822530\n",
      "[TEST LOSS AVG]: 0.315164\t[TEST AUC AVG]: 0.822066\n",
      "[EPOCH 0]\t[TRAIN LOSS]: 0.373836\t[TRAIN AUC]: 0.740122\n",
      "[EPOCH 1]\t[TRAIN LOSS]: 0.326816\t[TRAIN AUC]: 0.815932\n",
      "[EPOCH 2]\t[TRAIN LOSS]: 0.323136\t[TRAIN AUC]: 0.818505\n",
      "[EPOCH 3]\t[TRAIN LOSS]: 0.322687\t[TRAIN AUC]: 0.819643\n",
      "[EPOCH 4]\t[TRAIN LOSS]: 0.321276\t[TRAIN AUC]: 0.819832\n",
      "[EPOCH 5]\t[TRAIN LOSS]: 0.321139\t[TRAIN AUC]: 0.821081\n",
      "[EPOCH 6]\t[TRAIN LOSS]: 0.320582\t[TRAIN AUC]: 0.821435\n",
      "[EPOCH 7]\t[TRAIN LOSS]: 0.320810\t[TRAIN AUC]: 0.820977\n",
      "[EPOCH 8]\t[TRAIN LOSS]: 0.320417\t[TRAIN AUC]: 0.821313\n",
      "[EPOCH 9]\t[TRAIN LOSS]: 0.320476\t[TRAIN AUC]: 0.821666\n",
      "[EPOCH 10]\t[TRAIN LOSS]: 0.320632\t[TRAIN AUC]: 0.822050\n",
      "[TEST LOSS AVG]: 0.315840\t[TEST AUC AVG]: 0.822127\n",
      "[EPOCH 0]\t[TRAIN LOSS]: 0.392868\t[TRAIN AUC]: 0.689362\n",
      "[EPOCH 1]\t[TRAIN LOSS]: 0.329255\t[TRAIN AUC]: 0.813189\n",
      "[EPOCH 2]\t[TRAIN LOSS]: 0.324714\t[TRAIN AUC]: 0.817791\n",
      "[EPOCH 3]\t[TRAIN LOSS]: 0.323460\t[TRAIN AUC]: 0.818580\n",
      "[EPOCH 4]\t[TRAIN LOSS]: 0.322839\t[TRAIN AUC]: 0.819872\n",
      "[EPOCH 5]\t[TRAIN LOSS]: 0.322162\t[TRAIN AUC]: 0.820623\n",
      "[EPOCH 6]\t[TRAIN LOSS]: 0.322385\t[TRAIN AUC]: 0.820312\n",
      "[EPOCH 7]\t[TRAIN LOSS]: 0.321720\t[TRAIN AUC]: 0.820884\n",
      "[EPOCH 8]\t[TRAIN LOSS]: 0.322213\t[TRAIN AUC]: 0.821284\n",
      "[EPOCH 9]\t[TRAIN LOSS]: 0.321877\t[TRAIN AUC]: 0.821459\n",
      "[EPOCH 10]\t[TRAIN LOSS]: 0.321478\t[TRAIN AUC]: 0.821307\n",
      "[TEST LOSS AVG]: 0.318283\t[TEST AUC AVG]: 0.820238\n"
     ]
    }
   ],
   "source": [
    "trainloader, testloader, valloader = getLoaders(42)\n",
    "z = 42\n",
    "for ii in ['NN1Sig', 'NN2Sig','NN3Sig']:\n",
    "    model = Q2Dic[ii]\n",
    "    for jj in range(11):\n",
    "        TRAIN(jj, model, bce, trainloader)\n",
    "    temp = TEST(model, bce, valloader)\n",
    "    aucDf.loc[ii + '_RS_{}'.format(z), 'Loss'] = temp[0]\n",
    "    aucDf.loc[ii+ '_RS_{}'.format(z), 'AUC'] = temp[1]"
   ]
  },
  {
   "cell_type": "code",
   "execution_count": 89,
   "metadata": {},
   "outputs": [
    {
     "name": "stdout",
     "output_type": "stream",
     "text": [
      "[EPOCH 1]\t[TRAIN LOSS]: 0.319375\t[TRAIN AUC]: 0.821365\n"
     ]
    },
    {
     "data": {
      "text/plain": [
       "(0.3193751991851123, 0.8213652972485773)"
      ]
     },
     "execution_count": 89,
     "metadata": {},
     "output_type": "execute_result"
    }
   ],
   "source": [
    "TRAIN(1, NN1Sig, bce, trainloader)"
   ]
  },
  {
   "cell_type": "code",
   "execution_count": 244,
   "metadata": {},
   "outputs": [
    {
     "data": {
      "text/plain": [
       "<matplotlib.legend.Legend at 0x7fe5fa41e0a0>"
      ]
     },
     "execution_count": 244,
     "metadata": {},
     "output_type": "execute_result"
    },
    {
     "data": {
      "image/png": "[encoded data removed]",
      "text/plain": [
       "<Figure size 432x288 with 1 Axes>"
      ]
     },
     "metadata": {
      "needs_background": "light"
     },
     "output_type": "display_data"
    }
   ],
   "source": [
    "aucDf = aucDf.sort_index()\n",
    "reluAUCs = aucDf.loc[[x for x in aucDf.index if 'Relu' in x and '128' in x], 'AUC']\n",
    "sigAUCs = aucDf.loc[[x for x in aucDf.index if 'Sig' in x and '128' in x], 'AUC']\n",
    "noActAUCs = aucDf.loc[[x for x in aucDf.index if 'Sig' not in x and 'Relu' not in x and '128' in x], 'AUC']\n",
    "act = ['NoActivation','Relu','Sigmoid']\n",
    "plt.plot([1,2,3], noActAUCs[1:], color = 'blue')\n",
    "plt.plot([1,2,3], reluAUCs, color = 'red')\n",
    "plt.plot([1,2,3], sigAUCs, color = 'orange')\n",
    "plt.xlabel('Num Hidden')\n",
    "plt.ylabel('AUC')\n",
    "plt.legend(act)\n"
   ]
  },
  {
   "cell_type": "code",
   "execution_count": 245,
   "metadata": {},
   "outputs": [
    {
     "data": {
      "text/plain": [
       "<matplotlib.legend.Legend at 0x7fe5d87258e0>"
      ]
     },
     "execution_count": 245,
     "metadata": {},
     "output_type": "execute_result"
    },
    {
     "data": {
      "image/png": "[encoded data removed]",
      "text/plain": [
       "<Figure size 432x288 with 1 Axes>"
      ]
     },
     "metadata": {
      "needs_background": "light"
     },
     "output_type": "display_data"
    }
   ],
   "source": [
    "reluAUCs = aucDf.loc[[x for x in aucDf.index if 'Relu' in x and '42' in x], 'AUC']\n",
    "sigAUCs = aucDf.loc[[x for x in aucDf.index if 'Sig' in x and '42' in x], 'AUC']\n",
    "noActAUCs = aucDf.loc[[x for x in aucDf.index if 'Sig' not in x and 'Relu' not in x and '42' in x], 'AUC']\n",
    "act = ['NoActivation','Relu','Sigmoid']\n",
    "plt.plot([1,2,3], noActAUCs[1:], color = 'blue')\n",
    "plt.plot([1,2,3], reluAUCs, color = 'red')\n",
    "plt.plot([1,2,3], sigAUCs, color = 'orange')\n",
    "plt.xlabel('Num Hidden')\n",
    "plt.ylabel('AUC')\n",
    "plt.legend(act)"
   ]
  },
  {
   "cell_type": "code",
   "execution_count": 246,
   "metadata": {},
   "outputs": [
    {
     "data": {
      "text/plain": [
       "<matplotlib.legend.Legend at 0x7fe5fa03ad90>"
      ]
     },
     "execution_count": 246,
     "metadata": {},
     "output_type": "execute_result"
    },
    {
     "data": {
      "image/png": "[encoded data removed]",
      "text/plain": [
       "<Figure size 432x288 with 1 Axes>"
      ]
     },
     "metadata": {
      "needs_background": "light"
     },
     "output_type": "display_data"
    }
   ],
   "source": [
    "reluAUCs = aucDf.loc[[x for x in aucDf.index if 'Relu' in x and '68' in x], 'AUC']\n",
    "sigAUCs = aucDf.loc[[x for x in aucDf.index if 'Sig' in x and '68' in x], 'AUC']\n",
    "noActAUCs = aucDf.loc[[x for x in aucDf.index if 'Sig' not in x and 'Relu' not in x and '68' in x], 'AUC']\n",
    "act = ['NoActivation','Relu','Sigmoid']\n",
    "plt.plot([1,2,3], noActAUCs[1:], color = 'blue')\n",
    "plt.plot([1,2,3], reluAUCs, color = 'red')\n",
    "plt.plot([1,2,3], sigAUCs, color = 'orange')\n",
    "plt.xlabel('Num Hidden')\n",
    "plt.ylabel('AUC')\n",
    "plt.legend(act)\n"
   ]
  },
  {
   "cell_type": "code",
   "execution_count": 248,
   "metadata": {},
   "outputs": [
    {
     "data": {
      "text/html": [
       "<div>\n",
       "<style scoped>\n",
       "    .dataframe tbody tr th:only-of-type {\n",
       "        vertical-align: middle;\n",
       "    }\n",
       "\n",
       "    .dataframe tbody tr th {\n",
       "        vertical-align: top;\n",
       "    }\n",
       "\n",
       "    .dataframe thead th {\n",
       "        text-align: right;\n",
       "    }\n",
       "</style>\n",
       "<table border=\"1\" class=\"dataframe\">\n",
       "  <thead>\n",
       "    <tr style=\"text-align: right;\">\n",
       "      <th></th>\n",
       "      <th>Loss</th>\n",
       "      <th>AUC</th>\n",
       "    </tr>\n",
       "  </thead>\n",
       "  <tbody>\n",
       "    <tr>\n",
       "      <th>NN2Relu_RS_68</th>\n",
       "      <td>0.312587</td>\n",
       "      <td>0.829181</td>\n",
       "    </tr>\n",
       "    <tr>\n",
       "      <th>NN3Relu_RS_68</th>\n",
       "      <td>0.31286</td>\n",
       "      <td>0.828912</td>\n",
       "    </tr>\n",
       "    <tr>\n",
       "      <th>NN1Relu_RS_128</th>\n",
       "      <td>0.314845</td>\n",
       "      <td>0.827644</td>\n",
       "    </tr>\n",
       "    <tr>\n",
       "      <th>NN1Relu_RS_68</th>\n",
       "      <td>0.312814</td>\n",
       "      <td>0.827087</td>\n",
       "    </tr>\n",
       "    <tr>\n",
       "      <th>NN3Relu_RS_128</th>\n",
       "      <td>0.317991</td>\n",
       "      <td>0.826605</td>\n",
       "    </tr>\n",
       "    <tr>\n",
       "      <th>NN2Relu_RS_128</th>\n",
       "      <td>0.316931</td>\n",
       "      <td>0.826414</td>\n",
       "    </tr>\n",
       "    <tr>\n",
       "      <th>NN1Sig_RS_68</th>\n",
       "      <td>0.314531</td>\n",
       "      <td>0.825845</td>\n",
       "    </tr>\n",
       "    <tr>\n",
       "      <th>NN2Sig_RS_68</th>\n",
       "      <td>0.315231</td>\n",
       "      <td>0.825829</td>\n",
       "    </tr>\n",
       "    <tr>\n",
       "      <th>NN3Sig_RS_68</th>\n",
       "      <td>0.315806</td>\n",
       "      <td>0.825643</td>\n",
       "    </tr>\n",
       "    <tr>\n",
       "      <th>NN2Relu_RS_42</th>\n",
       "      <td>0.31312</td>\n",
       "      <td>0.824868</td>\n",
       "    </tr>\n",
       "    <tr>\n",
       "      <th>NN3Relu_RS_42</th>\n",
       "      <td>0.31337</td>\n",
       "      <td>0.824686</td>\n",
       "    </tr>\n",
       "    <tr>\n",
       "      <th>NN1_RS_128</th>\n",
       "      <td>0.318701</td>\n",
       "      <td>0.824629</td>\n",
       "    </tr>\n",
       "    <tr>\n",
       "      <th>NN2_RS_68</th>\n",
       "      <td>0.317783</td>\n",
       "      <td>0.824589</td>\n",
       "    </tr>\n",
       "    <tr>\n",
       "      <th>NN2_RS_128</th>\n",
       "      <td>0.319572</td>\n",
       "      <td>0.824361</td>\n",
       "    </tr>\n",
       "    <tr>\n",
       "      <th>NN3_RS_128</th>\n",
       "      <td>0.318936</td>\n",
       "      <td>0.824359</td>\n",
       "    </tr>\n",
       "    <tr>\n",
       "      <th>NN3_RS_68</th>\n",
       "      <td>0.316936</td>\n",
       "      <td>0.823757</td>\n",
       "    </tr>\n",
       "    <tr>\n",
       "      <th>NN1Sig_RS_128</th>\n",
       "      <td>0.314361</td>\n",
       "      <td>0.823372</td>\n",
       "    </tr>\n",
       "    <tr>\n",
       "      <th>NN0_RS_128</th>\n",
       "      <td>0.318686</td>\n",
       "      <td>0.823086</td>\n",
       "    </tr>\n",
       "    <tr>\n",
       "      <th>NN2Sig_RS_42</th>\n",
       "      <td>0.31584</td>\n",
       "      <td>0.822127</td>\n",
       "    </tr>\n",
       "    <tr>\n",
       "      <th>NN1Sig_RS_42</th>\n",
       "      <td>0.315164</td>\n",
       "      <td>0.822066</td>\n",
       "    </tr>\n",
       "    <tr>\n",
       "      <th>NN1Relu_RS_42</th>\n",
       "      <td>0.31521</td>\n",
       "      <td>0.821718</td>\n",
       "    </tr>\n",
       "    <tr>\n",
       "      <th>NN1_RS_68</th>\n",
       "      <td>0.318898</td>\n",
       "      <td>0.821441</td>\n",
       "    </tr>\n",
       "    <tr>\n",
       "      <th>NN3Sig_RS_128</th>\n",
       "      <td>0.317253</td>\n",
       "      <td>0.821128</td>\n",
       "    </tr>\n",
       "    <tr>\n",
       "      <th>NN2Sig_RS_128</th>\n",
       "      <td>0.316097</td>\n",
       "      <td>0.821015</td>\n",
       "    </tr>\n",
       "    <tr>\n",
       "      <th>NN0_RS_68</th>\n",
       "      <td>0.320561</td>\n",
       "      <td>0.820776</td>\n",
       "    </tr>\n",
       "    <tr>\n",
       "      <th>NN3Sig_RS_42</th>\n",
       "      <td>0.318283</td>\n",
       "      <td>0.820238</td>\n",
       "    </tr>\n",
       "    <tr>\n",
       "      <th>NN2_RS_42</th>\n",
       "      <td>0.318296</td>\n",
       "      <td>0.81946</td>\n",
       "    </tr>\n",
       "    <tr>\n",
       "      <th>NN3_RS_42</th>\n",
       "      <td>0.325157</td>\n",
       "      <td>0.81929</td>\n",
       "    </tr>\n",
       "    <tr>\n",
       "      <th>NN1_RS_42</th>\n",
       "      <td>0.323567</td>\n",
       "      <td>0.81909</td>\n",
       "    </tr>\n",
       "    <tr>\n",
       "      <th>NN0_RS_42</th>\n",
       "      <td>0.320945</td>\n",
       "      <td>0.815176</td>\n",
       "    </tr>\n",
       "  </tbody>\n",
       "</table>\n",
       "</div>"
      ],
      "text/plain": [
       "                    Loss       AUC\n",
       "NN2Relu_RS_68   0.312587  0.829181\n",
       "NN3Relu_RS_68    0.31286  0.828912\n",
       "NN1Relu_RS_128  0.314845  0.827644\n",
       "NN1Relu_RS_68   0.312814  0.827087\n",
       "NN3Relu_RS_128  0.317991  0.826605\n",
       "NN2Relu_RS_128  0.316931  0.826414\n",
       "NN1Sig_RS_68    0.314531  0.825845\n",
       "NN2Sig_RS_68    0.315231  0.825829\n",
       "NN3Sig_RS_68    0.315806  0.825643\n",
       "NN2Relu_RS_42    0.31312  0.824868\n",
       "NN3Relu_RS_42    0.31337  0.824686\n",
       "NN1_RS_128      0.318701  0.824629\n",
       "NN2_RS_68       0.317783  0.824589\n",
       "NN2_RS_128      0.319572  0.824361\n",
       "NN3_RS_128      0.318936  0.824359\n",
       "NN3_RS_68       0.316936  0.823757\n",
       "NN1Sig_RS_128   0.314361  0.823372\n",
       "NN0_RS_128      0.318686  0.823086\n",
       "NN2Sig_RS_42     0.31584  0.822127\n",
       "NN1Sig_RS_42    0.315164  0.822066\n",
       "NN1Relu_RS_42    0.31521  0.821718\n",
       "NN1_RS_68       0.318898  0.821441\n",
       "NN3Sig_RS_128   0.317253  0.821128\n",
       "NN2Sig_RS_128   0.316097  0.821015\n",
       "NN0_RS_68       0.320561  0.820776\n",
       "NN3Sig_RS_42    0.318283  0.820238\n",
       "NN2_RS_42       0.318296   0.81946\n",
       "NN3_RS_42       0.325157   0.81929\n",
       "NN1_RS_42       0.323567   0.81909\n",
       "NN0_RS_42       0.320945  0.815176"
      ]
     },
     "execution_count": 248,
     "metadata": {},
     "output_type": "execute_result"
    }
   ],
   "source": [
    "aucDf.sort_values('AUC', ascending=False)"
   ]
  },
  {
   "cell_type": "markdown",
   "metadata": {},
   "source": [
    "## Build and train a “deep” network (at least 2 hidden layers) to classify diabetes from the rest of the dataset. Given the nature of this dataset, is there a benefit of using a CNN or RNN for the classification?"
   ]
  },
  {
   "cell_type": "code",
   "execution_count": 111,
   "metadata": {},
   "outputs": [
    {
     "name": "stdout",
     "output_type": "stream",
     "text": [
      "[EPOCH 1]\t[TRAIN LOSS]: 0.353513\t[TRAIN AUC]: 0.735347\n",
      "[TEST LOSS AVG]: 0.332902\t[TEST AUC AVG]: 0.820983\n",
      "[EPOCH 2]\t[TRAIN LOSS]: 0.321885\t[TRAIN AUC]: 0.819742\n",
      "[TEST LOSS AVG]: 0.320051\t[TEST AUC AVG]: 0.823181\n",
      "[EPOCH 3]\t[TRAIN LOSS]: 0.320651\t[TRAIN AUC]: 0.821566\n",
      "[TEST LOSS AVG]: 0.320529\t[TEST AUC AVG]: 0.823619\n",
      "[EPOCH 4]\t[TRAIN LOSS]: 0.319539\t[TRAIN AUC]: 0.823217\n",
      "[TEST LOSS AVG]: 0.316503\t[TEST AUC AVG]: 0.825951\n",
      "[EPOCH 5]\t[TRAIN LOSS]: 0.319946\t[TRAIN AUC]: 0.823314\n",
      "[TEST LOSS AVG]: 0.316560\t[TEST AUC AVG]: 0.824044\n",
      "[EPOCH 6]\t[TRAIN LOSS]: 0.318982\t[TRAIN AUC]: 0.823651\n",
      "[TEST LOSS AVG]: 0.321190\t[TEST AUC AVG]: 0.824732\n",
      "[EPOCH 7]\t[TRAIN LOSS]: 0.318112\t[TRAIN AUC]: 0.825128\n",
      "[TEST LOSS AVG]: 0.318566\t[TEST AUC AVG]: 0.824134\n",
      "[EPOCH 8]\t[TRAIN LOSS]: 0.318001\t[TRAIN AUC]: 0.824759\n",
      "[TEST LOSS AVG]: 0.316586\t[TEST AUC AVG]: 0.826765\n",
      "[EPOCH 9]\t[TRAIN LOSS]: 0.318284\t[TRAIN AUC]: 0.825008\n",
      "[TEST LOSS AVG]: 0.315588\t[TEST AUC AVG]: 0.826555\n",
      "[EPOCH 10]\t[TRAIN LOSS]: 0.317853\t[TRAIN AUC]: 0.825258\n",
      "[TEST LOSS AVG]: 0.329903\t[TEST AUC AVG]: 0.825442\n",
      "[EPOCH 11]\t[TRAIN LOSS]: 0.317262\t[TRAIN AUC]: 0.825644\n",
      "[TEST LOSS AVG]: 0.315786\t[TEST AUC AVG]: 0.826282\n",
      "[EPOCH 12]\t[TRAIN LOSS]: 0.317262\t[TRAIN AUC]: 0.825869\n",
      "[TEST LOSS AVG]: 0.318207\t[TEST AUC AVG]: 0.826569\n",
      "[EPOCH 13]\t[TRAIN LOSS]: 0.317383\t[TRAIN AUC]: 0.825148\n",
      "[TEST LOSS AVG]: 0.318610\t[TEST AUC AVG]: 0.823573\n",
      "[EPOCH 14]\t[TRAIN LOSS]: 0.317571\t[TRAIN AUC]: 0.826133\n",
      "[TEST LOSS AVG]: 0.316483\t[TEST AUC AVG]: 0.826243\n",
      "[EPOCH 15]\t[TRAIN LOSS]: 0.317708\t[TRAIN AUC]: 0.825680\n",
      "[TEST LOSS AVG]: 0.316125\t[TEST AUC AVG]: 0.825246\n",
      "[EPOCH 16]\t[TRAIN LOSS]: 0.317241\t[TRAIN AUC]: 0.826128\n",
      "[TEST LOSS AVG]: 0.316566\t[TEST AUC AVG]: 0.826320\n",
      "[EPOCH 17]\t[TRAIN LOSS]: 0.317194\t[TRAIN AUC]: 0.826765\n",
      "[TEST LOSS AVG]: 0.316220\t[TEST AUC AVG]: 0.826959\n",
      "[EPOCH 18]\t[TRAIN LOSS]: 0.317509\t[TRAIN AUC]: 0.826384\n",
      "[TEST LOSS AVG]: 0.315321\t[TEST AUC AVG]: 0.827209\n",
      "[EPOCH 19]\t[TRAIN LOSS]: 0.316893\t[TRAIN AUC]: 0.826039\n",
      "[TEST LOSS AVG]: 0.322812\t[TEST AUC AVG]: 0.825098\n",
      "[EPOCH 20]\t[TRAIN LOSS]: 0.316973\t[TRAIN AUC]: 0.826037\n",
      "[TEST LOSS AVG]: 0.315415\t[TEST AUC AVG]: 0.827079\n"
     ]
    },
    {
     "data": {
      "image/png": "[encoded data removed]",
      "text/plain": [
       "<Figure size 720x432 with 1 Axes>"
      ]
     },
     "metadata": {
      "needs_background": "light"
     },
     "output_type": "display_data"
    },
    {
     "data": {
      "image/png": "[encoded data removed]",
      "text/plain": [
       "<Figure size 720x432 with 1 Axes>"
      ]
     },
     "metadata": {
      "needs_background": "light"
     },
     "output_type": "display_data"
    }
   ],
   "source": [
    "hiddensize = 32\n",
    "def buildNN4Relu(hiddensize):\n",
    "    NN4Relu = nn.Sequential(\n",
    "                nn.Linear(N, hiddensize),\n",
    "                nn.ReLU(),\n",
    "                nn.Linear(hiddensize, hiddensize),\n",
    "                nn.ReLU(),\n",
    "                nn.Linear(hiddensize, hiddensize),\n",
    "                nn.ReLU(),\n",
    "                nn.Linear(hiddensize, hiddensize),\n",
    "                nn.ReLU(),\n",
    "                nn.Linear(hiddensize, 1),\n",
    "                nn.Sigmoid()\n",
    "    )\n",
    "    return NN4Relu\n",
    "\n",
    "NN4ReluCopy = buildNN4Relu(hiddensize)\n",
    "NN4Relu = buildNN4Relu(hiddensize)\n",
    "train, test = compareTrainTest(NN4ReluCopy, 20, True)\n",
    "\n"
   ]
  },
  {
   "cell_type": "code",
   "execution_count": 112,
   "metadata": {},
   "outputs": [
    {
     "name": "stdout",
     "output_type": "stream",
     "text": [
      "[EPOCH 0]\t[TRAIN LOSS]: 0.354350\t[TRAIN AUC]: 0.731549\n",
      "[EPOCH 1]\t[TRAIN LOSS]: 0.321688\t[TRAIN AUC]: 0.820176\n",
      "[EPOCH 2]\t[TRAIN LOSS]: 0.320098\t[TRAIN AUC]: 0.821464\n",
      "[EPOCH 3]\t[TRAIN LOSS]: 0.320021\t[TRAIN AUC]: 0.822275\n",
      "[EPOCH 4]\t[TRAIN LOSS]: 0.319048\t[TRAIN AUC]: 0.823544\n",
      "[EPOCH 5]\t[TRAIN LOSS]: 0.319642\t[TRAIN AUC]: 0.823718\n",
      "[EPOCH 6]\t[TRAIN LOSS]: 0.319007\t[TRAIN AUC]: 0.823847\n",
      "[EPOCH 7]\t[TRAIN LOSS]: 0.318453\t[TRAIN AUC]: 0.824086\n",
      "[EPOCH 8]\t[TRAIN LOSS]: 0.318616\t[TRAIN AUC]: 0.824372\n",
      "[EPOCH 9]\t[TRAIN LOSS]: 0.318101\t[TRAIN AUC]: 0.824871\n",
      "[EPOCH 10]\t[TRAIN LOSS]: 0.318382\t[TRAIN AUC]: 0.824715\n",
      "[TEST LOSS AVG]: 0.313049\t[TEST AUC AVG]: 0.825167\n"
     ]
    },
    {
     "data": {
      "text/plain": [
       "(0.3130487192135591, 0.8251665710122206)"
      ]
     },
     "execution_count": 112,
     "metadata": {},
     "output_type": "execute_result"
    }
   ],
   "source": [
    "for ii in range(11):\n",
    "    TRAIN(ii, NN4Relu, bce, trainloader)\n",
    "\n",
    "TEST(NN4Relu, bce, valloader)"
   ]
  },
  {
   "cell_type": "markdown",
   "metadata": {},
   "source": [
    "## Build and train a feedforward neural network with one hidden layer to predict BMI from the rest of the dataset. Use RMSE to assess the accuracy of your model. Does the RMSE depend on the activation function used?"
   ]
  },
  {
   "cell_type": "code",
   "execution_count": 425,
   "metadata": {},
   "outputs": [],
   "source": [
    "from sklearn.metrics import mean_squared_error as MSE\n",
    "first_column = df.pop('BMI')\n",
    "df.insert(0, 'BMI', first_column)\n",
    "trainloader, testloader, valloader = getLoaders(42)\n",
    "def RTRAIN(epoch, model, train_loader):\n",
    "    lossF = nn.MSELoss()\n",
    "    model.train()\n",
    "    losses = []\n",
    "    auc = []\n",
    "    optimizer = torch.optim.Adam(model.parameters(), lr=1e-3, weight_decay=1e-3)\n",
    "    for DD in train_loader:\n",
    "        data, target = DD\n",
    "        # send data to device, where the \"device\" is either a GPU if it exists or a CPU\n",
    "        #data, target = data.to(device), target.to(device)\n",
    "        optimizer.zero_grad()\n",
    "        # forward pass through the model\n",
    "        output = model(data)\n",
    "        # forward pass through the cross-entropy loss function\n",
    "        auc.append(np.sqrt(MSE(target, output.detach().numpy())))\n",
    "        loss = torch.sqrt(lossF(output, target.unsqueeze(1).type(torch.FloatTensor)))\n",
    "        losses.append(loss.item())\n",
    "        # backward pass through the cross-entropy loss function and the model\n",
    "        loss.backward()\n",
    "        \n",
    "        optimizer.step()\n",
    "    print('[EPOCH %d]\\t[TRAIN LOSS]: %f\\t[TRAIN RMSE]: %f' % (epoch,np.mean(losses), np.mean(auc)))\n",
    "    return np.mean(losses), np.mean(auc)\n",
    "\n",
    "\n",
    "def RTEST(model,train_loader):\n",
    "    model.eval()\n",
    "    losses = []\n",
    "    auc = []\n",
    "    lossF = nn.MSELoss()\n",
    "    with torch.no_grad():\n",
    "        for batch_idx, (data, target) in enumerate(train_loader):\n",
    "            # send data to device, where the \"device\" is either a GPU if it exists or a CPU\n",
    "            data, target = data.to(device), target.to(device)\n",
    "            # forward pass through the model\n",
    "            output = model(data)\n",
    "            # forward pass through the cross-entropy loss function\n",
    "            auc.append(np.sqrt(MSE(target, output.detach().numpy())))\n",
    "            loss = torch.sqrt(lossF(output, target.unsqueeze(1).type(torch.FloatTensor)))\n",
    "            losses.append(loss.item())\n",
    "            # backward pass through the cross-entropy loss function and the model\n",
    "\n",
    "        print('[TEST LOSS AVG]: %f\\t[TEST RMSE AVG]: %f' % (np.mean(losses), np.mean(auc)))\n",
    "    return np.mean(losses), np.mean(auc)\n",
    "\n",
    "\n",
    "def RcompareTrainTest(model, numEpoch, graph):\n",
    "    trainStats = np.empty([numEpoch, 2])*np.nan\n",
    "    testStats = np.empty([numEpoch, 2])*np.nan\n",
    "    for ii in range(1, numEpoch + 1):\n",
    "        trainStats[ii-1][0], trainStats[ii-1][1] = RTRAIN(ii, model, trainloader)\n",
    "        testStats[ii-1][0], testStats[ii-1][1] = RTEST(model, testloader)\n",
    "    if graph:\n",
    "        plt.figure(figsize=(10,6))\n",
    "        plt.plot(trainStats[:,0], color = 'blue')\n",
    "        plt.plot(testStats[:,0], color = 'orange')\n",
    "        plt.legend(['train','test'])\n",
    "        plt.xlabel('Epoch')\n",
    "        plt.ylabel('Loss')\n",
    "\n",
    "        plt.figure(figsize=(10,6))\n",
    "        plt.plot(trainStats[:,1], color = 'blue')\n",
    "        plt.plot(testStats[:,1], color = 'orange')\n",
    "        plt.legend(['train','test'])\n",
    "        plt.xlabel('Epoch')\n",
    "        plt.ylabel('RMSE')\n",
    "    return trainStats, testStats"
   ]
  },
  {
   "cell_type": "code",
   "execution_count": 151,
   "metadata": {},
   "outputs": [],
   "source": [
    "def buildNN1Relu(hiddensize):\n",
    "    NN4Relu = nn.Sequential(\n",
    "                nn.Linear(N, hiddensize),\n",
    "                nn.ReLU(),\n",
    "                nn.Linear(hiddensize, 1),\n",
    "    )\n",
    "    return NN4Relu\n",
    "regre = buildNN1Relu(32)\n",
    "regreCopy = buildNN1Relu(32)\n",
    "\n",
    "#_,_ = RcompareTrainTest(regre,20, True )"
   ]
  },
  {
   "cell_type": "code",
   "execution_count": 152,
   "metadata": {},
   "outputs": [
    {
     "name": "stdout",
     "output_type": "stream",
     "text": [
      "[EPOCH 0]\t[TRAIN LOSS]: 10.676407\t[TRAIN RMSE]: 10.676407\n",
      "[EPOCH 1]\t[TRAIN LOSS]: 6.156082\t[TRAIN RMSE]: 6.156082\n",
      "[EPOCH 2]\t[TRAIN LOSS]: 6.050491\t[TRAIN RMSE]: 6.050491\n",
      "[TEST LOSS AVG]: 6.000234\t[TEST RMSE AVG]: 6.000234\n"
     ]
    },
    {
     "data": {
      "text/plain": [
       "(6.0002339986654425, 6.000234002898558)"
      ]
     },
     "execution_count": 152,
     "metadata": {},
     "output_type": "execute_result"
    }
   ],
   "source": [
    "for ii in range(3):\n",
    "    RTRAIN(ii, regreCopy, trainloader)\n",
    "RTEST(regreCopy, valloader)"
   ]
  },
  {
   "cell_type": "code",
   "execution_count": 143,
   "metadata": {},
   "outputs": [
    {
     "name": "stdout",
     "output_type": "stream",
     "text": [
      "[EPOCH 1]\t[TRAIN LOSS]: 15.105039\t[TRAIN RMSE]: 15.105039\n",
      "[TEST LOSS AVG]: 7.037788\t[TEST RMSE AVG]: 7.037788\n",
      "[EPOCH 2]\t[TRAIN LOSS]: 6.209127\t[TRAIN RMSE]: 6.209127\n",
      "[TEST LOSS AVG]: 6.198828\t[TEST RMSE AVG]: 6.198828\n",
      "[EPOCH 3]\t[TRAIN LOSS]: 6.015195\t[TRAIN RMSE]: 6.015195\n",
      "[TEST LOSS AVG]: 6.131312\t[TEST RMSE AVG]: 6.131312\n",
      "[EPOCH 4]\t[TRAIN LOSS]: 5.993948\t[TRAIN RMSE]: 5.993948\n",
      "[TEST LOSS AVG]: 6.113732\t[TEST RMSE AVG]: 6.113732\n",
      "[EPOCH 5]\t[TRAIN LOSS]: 5.968586\t[TRAIN RMSE]: 5.968586\n",
      "[TEST LOSS AVG]: 6.088867\t[TEST RMSE AVG]: 6.088867\n",
      "[EPOCH 6]\t[TRAIN LOSS]: 5.965199\t[TRAIN RMSE]: 5.965199\n",
      "[TEST LOSS AVG]: 6.080589\t[TEST RMSE AVG]: 6.080589\n",
      "[EPOCH 7]\t[TRAIN LOSS]: 5.957883\t[TRAIN RMSE]: 5.957883\n",
      "[TEST LOSS AVG]: 6.082027\t[TEST RMSE AVG]: 6.082027\n",
      "[EPOCH 8]\t[TRAIN LOSS]: 5.952589\t[TRAIN RMSE]: 5.952589\n",
      "[TEST LOSS AVG]: 6.059408\t[TEST RMSE AVG]: 6.059408\n",
      "[EPOCH 9]\t[TRAIN LOSS]: 5.952641\t[TRAIN RMSE]: 5.952641\n",
      "[TEST LOSS AVG]: 6.067423\t[TEST RMSE AVG]: 6.067423\n",
      "[EPOCH 10]\t[TRAIN LOSS]: 5.943060\t[TRAIN RMSE]: 5.943060\n",
      "[TEST LOSS AVG]: 6.073608\t[TEST RMSE AVG]: 6.073608\n",
      "[EPOCH 11]\t[TRAIN LOSS]: 5.940087\t[TRAIN RMSE]: 5.940087\n",
      "[TEST LOSS AVG]: 6.063776\t[TEST RMSE AVG]: 6.063776\n",
      "[EPOCH 12]\t[TRAIN LOSS]: 5.941013\t[TRAIN RMSE]: 5.941013\n",
      "[TEST LOSS AVG]: 6.087856\t[TEST RMSE AVG]: 6.087856\n",
      "[EPOCH 13]\t[TRAIN LOSS]: 5.943960\t[TRAIN RMSE]: 5.943960\n",
      "[TEST LOSS AVG]: 6.076706\t[TEST RMSE AVG]: 6.076706\n",
      "[EPOCH 14]\t[TRAIN LOSS]: 5.935540\t[TRAIN RMSE]: 5.935540\n",
      "[TEST LOSS AVG]: 6.086841\t[TEST RMSE AVG]: 6.086841\n",
      "[EPOCH 15]\t[TRAIN LOSS]: 5.937629\t[TRAIN RMSE]: 5.937629\n",
      "[TEST LOSS AVG]: 6.048651\t[TEST RMSE AVG]: 6.048651\n",
      "[EPOCH 16]\t[TRAIN LOSS]: 5.936513\t[TRAIN RMSE]: 5.936513\n",
      "[TEST LOSS AVG]: 6.073739\t[TEST RMSE AVG]: 6.073739\n",
      "[EPOCH 17]\t[TRAIN LOSS]: 5.937678\t[TRAIN RMSE]: 5.937678\n",
      "[TEST LOSS AVG]: 6.071810\t[TEST RMSE AVG]: 6.071810\n",
      "[EPOCH 18]\t[TRAIN LOSS]: 5.940869\t[TRAIN RMSE]: 5.940869\n",
      "[TEST LOSS AVG]: 6.068806\t[TEST RMSE AVG]: 6.068806\n",
      "[EPOCH 19]\t[TRAIN LOSS]: 5.938976\t[TRAIN RMSE]: 5.938976\n",
      "[TEST LOSS AVG]: 6.074036\t[TEST RMSE AVG]: 6.074036\n",
      "[EPOCH 20]\t[TRAIN LOSS]: 5.941069\t[TRAIN RMSE]: 5.941069\n",
      "[TEST LOSS AVG]: 6.070475\t[TEST RMSE AVG]: 6.070475\n"
     ]
    },
    {
     "data": {
      "image/png": "[encoded data removed]",
      "text/plain": [
       "<Figure size 720x432 with 1 Axes>"
      ]
     },
     "metadata": {
      "needs_background": "light"
     },
     "output_type": "display_data"
    },
    {
     "data": {
      "image/png": "[encoded data removed]",
      "text/plain": [
       "<Figure size 720x432 with 1 Axes>"
      ]
     },
     "metadata": {
      "needs_background": "light"
     },
     "output_type": "display_data"
    }
   ],
   "source": [
    "def buildNN1tan(hiddensize):\n",
    "    NN4Relu = nn.Sequential(\n",
    "                nn.Linear(N, hiddensize),\n",
    "                nn.Tanh(),\n",
    "                nn.Linear(hiddensize, 1),\n",
    "    )\n",
    "    return NN4Relu\n",
    "tan = buildNN1tan(32)\n",
    "tanCopy = buildNN1tan(32)\n",
    "\n",
    "_,_ = RcompareTrainTest(tan,20, True )"
   ]
  },
  {
   "cell_type": "code",
   "execution_count": 144,
   "metadata": {},
   "outputs": [
    {
     "name": "stdout",
     "output_type": "stream",
     "text": [
      "[EPOCH 0]\t[TRAIN LOSS]: 15.431786\t[TRAIN RMSE]: 15.431786\n",
      "[EPOCH 1]\t[TRAIN LOSS]: 6.227990\t[TRAIN RMSE]: 6.227990\n",
      "[EPOCH 2]\t[TRAIN LOSS]: 6.011057\t[TRAIN RMSE]: 6.011057\n",
      "[TEST LOSS AVG]: 5.942120\t[TEST RMSE AVG]: 5.942120\n"
     ]
    },
    {
     "data": {
      "text/plain": [
       "(5.942119910166814, 5.942119967391106)"
      ]
     },
     "execution_count": 144,
     "metadata": {},
     "output_type": "execute_result"
    }
   ],
   "source": [
    "for ii in range(3):\n",
    "    RTRAIN(ii, tanCopy, trainloader)\n",
    "RTEST(tanCopy, valloader)"
   ]
  },
  {
   "cell_type": "code",
   "execution_count": 147,
   "metadata": {},
   "outputs": [],
   "source": [
    "def buildNN1Sig(hiddensize):\n",
    "    NN4Relu = nn.Sequential(\n",
    "                nn.Linear(N, hiddensize),\n",
    "                nn.Sigmoid(),\n",
    "                nn.Linear(hiddensize, 1),\n",
    "    )\n",
    "    return NN4Relu\n",
    "sig = buildNN1Sig(32)\n",
    "sigCopy = buildNN1Sig(32)\n",
    "\n",
    "#_,_ = RcompareTrainTest(sig,20, True )"
   ]
  },
  {
   "cell_type": "code",
   "execution_count": 148,
   "metadata": {},
   "outputs": [
    {
     "name": "stdout",
     "output_type": "stream",
     "text": [
      "[EPOCH 0]\t[TRAIN LOSS]: 16.783899\t[TRAIN RMSE]: 16.783899\n",
      "[EPOCH 1]\t[TRAIN LOSS]: 6.292445\t[TRAIN RMSE]: 6.292445\n",
      "[EPOCH 2]\t[TRAIN LOSS]: 6.053177\t[TRAIN RMSE]: 6.053177\n",
      "[TEST LOSS AVG]: 5.931351\t[TEST RMSE AVG]: 5.931351\n"
     ]
    },
    {
     "data": {
      "text/plain": [
       "(5.931351331564096, 5.931351380347748)"
      ]
     },
     "execution_count": 148,
     "metadata": {},
     "output_type": "execute_result"
    }
   ],
   "source": [
    "for ii in range(3):\n",
    "    RTRAIN(ii, sigCopy, trainloader)\n",
    "RTEST(tanCopy, valloader)"
   ]
  },
  {
   "cell_type": "markdown",
   "metadata": {},
   "source": [
    "## Build and train a neural network of your choice to predict BMI from the rest of your dataset. How low can you get RMSE and what design choices does RMSE seem to depend on?"
   ]
  },
  {
   "cell_type": "code",
   "execution_count": 426,
   "metadata": {},
   "outputs": [
    {
     "name": "stdout",
     "output_type": "stream",
     "text": [
      "[EPOCH 1]\t[TRAIN LOSS]: 13.097468\t[TRAIN RMSE]: 13.097468\n",
      "[TEST LOSS AVG]: 6.709750\t[TEST RMSE AVG]: 6.709750\n",
      "[EPOCH 2]\t[TRAIN LOSS]: 6.525370\t[TRAIN RMSE]: 6.525370\n",
      "[TEST LOSS AVG]: 6.626190\t[TEST RMSE AVG]: 6.626190\n",
      "[EPOCH 3]\t[TRAIN LOSS]: 6.204767\t[TRAIN RMSE]: 6.204767\n",
      "[TEST LOSS AVG]: 6.173786\t[TEST RMSE AVG]: 6.173786\n",
      "[EPOCH 4]\t[TRAIN LOSS]: 6.049748\t[TRAIN RMSE]: 6.049748\n",
      "[TEST LOSS AVG]: 6.218475\t[TEST RMSE AVG]: 6.218475\n",
      "[EPOCH 5]\t[TRAIN LOSS]: 6.056929\t[TRAIN RMSE]: 6.056929\n",
      "[TEST LOSS AVG]: 6.149493\t[TEST RMSE AVG]: 6.149493\n",
      "[EPOCH 6]\t[TRAIN LOSS]: 6.027655\t[TRAIN RMSE]: 6.027655\n",
      "[TEST LOSS AVG]: 6.203186\t[TEST RMSE AVG]: 6.203186\n",
      "[EPOCH 7]\t[TRAIN LOSS]: 6.019154\t[TRAIN RMSE]: 6.019154\n",
      "[TEST LOSS AVG]: 6.152791\t[TEST RMSE AVG]: 6.152791\n",
      "[EPOCH 8]\t[TRAIN LOSS]: 6.018369\t[TRAIN RMSE]: 6.018369\n",
      "[TEST LOSS AVG]: 6.132134\t[TEST RMSE AVG]: 6.132134\n",
      "[EPOCH 9]\t[TRAIN LOSS]: 6.004633\t[TRAIN RMSE]: 6.004633\n",
      "[TEST LOSS AVG]: 6.149780\t[TEST RMSE AVG]: 6.149780\n",
      "[EPOCH 10]\t[TRAIN LOSS]: 5.999717\t[TRAIN RMSE]: 5.999717\n",
      "[TEST LOSS AVG]: 6.139664\t[TEST RMSE AVG]: 6.139664\n",
      "[EPOCH 11]\t[TRAIN LOSS]: 5.994898\t[TRAIN RMSE]: 5.994898\n",
      "[TEST LOSS AVG]: 6.093655\t[TEST RMSE AVG]: 6.093655\n",
      "[EPOCH 12]\t[TRAIN LOSS]: 5.986957\t[TRAIN RMSE]: 5.986957\n",
      "[TEST LOSS AVG]: 6.129148\t[TEST RMSE AVG]: 6.129148\n",
      "[EPOCH 13]\t[TRAIN LOSS]: 5.976899\t[TRAIN RMSE]: 5.976899\n",
      "[TEST LOSS AVG]: 6.141544\t[TEST RMSE AVG]: 6.141544\n",
      "[EPOCH 14]\t[TRAIN LOSS]: 5.989780\t[TRAIN RMSE]: 5.989780\n",
      "[TEST LOSS AVG]: 6.124702\t[TEST RMSE AVG]: 6.124702\n",
      "[EPOCH 15]\t[TRAIN LOSS]: 5.975358\t[TRAIN RMSE]: 5.975358\n",
      "[TEST LOSS AVG]: 6.137081\t[TEST RMSE AVG]: 6.137081\n",
      "[EPOCH 16]\t[TRAIN LOSS]: 5.976569\t[TRAIN RMSE]: 5.976569\n",
      "[TEST LOSS AVG]: 6.090973\t[TEST RMSE AVG]: 6.090973\n",
      "[EPOCH 17]\t[TRAIN LOSS]: 5.971409\t[TRAIN RMSE]: 5.971409\n",
      "[TEST LOSS AVG]: 6.179368\t[TEST RMSE AVG]: 6.179368\n",
      "[EPOCH 18]\t[TRAIN LOSS]: 5.968984\t[TRAIN RMSE]: 5.968984\n",
      "[TEST LOSS AVG]: 6.109406\t[TEST RMSE AVG]: 6.109406\n",
      "[EPOCH 19]\t[TRAIN LOSS]: 5.969656\t[TRAIN RMSE]: 5.969656\n",
      "[TEST LOSS AVG]: 6.084016\t[TEST RMSE AVG]: 6.084016\n",
      "[EPOCH 20]\t[TRAIN LOSS]: 5.970757\t[TRAIN RMSE]: 5.970757\n",
      "[TEST LOSS AVG]: 6.128673\t[TEST RMSE AVG]: 6.128673\n"
     ]
    },
    {
     "data": {
      "image/png": "[encoded data removed]",
      "text/plain": [
       "<Figure size 720x432 with 1 Axes>"
      ]
     },
     "metadata": {
      "needs_background": "light"
     },
     "output_type": "display_data"
    },
    {
     "data": {
      "image/png": "[encoded data removed]",
      "text/plain": [
       "<Figure size 720x432 with 1 Axes>"
      ]
     },
     "metadata": {
      "needs_background": "light"
     },
     "output_type": "display_data"
    }
   ],
   "source": [
    "h = 32\n",
    "def buildregre4(hiddensize):\n",
    "    NNRelu = nn.Sequential(\n",
    "                nn.Linear(N, hiddensize),\n",
    "                nn.Sigmoid(),\n",
    "                nn.Linear(hiddensize, hiddensize),\n",
    "                nn.Sigmoid(),\n",
    "                nn.Linear(hiddensize, hiddensize),\n",
    "                nn.Sigmoid(),\n",
    "                nn.Linear(hiddensize, hiddensize),\n",
    "                nn.Sigmoid(),\n",
    "                nn.Linear(hiddensize, 1),\n",
    "    )\n",
    "    return NNRelu\n",
    "regre4 = buildregre4(64)\n",
    "#regre3C = buildregre3(1)\n",
    "RcompareTrainTest(regre4, 20, True);"
   ]
  },
  {
   "cell_type": "code",
   "execution_count": 434,
   "metadata": {},
   "outputs": [
    {
     "name": "stdout",
     "output_type": "stream",
     "text": [
      "[EPOCH 0]\t[TRAIN LOSS]: 13.844187\t[TRAIN RMSE]: 13.844187\n",
      "[TEST LOSS AVG]: 6.526042\t[TEST RMSE AVG]: 6.526042\n",
      "[EPOCH 1]\t[TRAIN LOSS]: 6.531602\t[TRAIN RMSE]: 6.531602\n",
      "[TEST LOSS AVG]: 6.432680\t[TEST RMSE AVG]: 6.432680\n",
      "[EPOCH 2]\t[TRAIN LOSS]: 6.284133\t[TRAIN RMSE]: 6.284133\n",
      "[TEST LOSS AVG]: 6.034210\t[TEST RMSE AVG]: 6.034210\n",
      "[EPOCH 3]\t[TRAIN LOSS]: 6.046897\t[TRAIN RMSE]: 6.046897\n",
      "[TEST LOSS AVG]: 5.986804\t[TEST RMSE AVG]: 5.986804\n"
     ]
    }
   ],
   "source": [
    "regre4C = buildregre4(64)\n",
    "rmse = []\n",
    "for ii in range(4):\n",
    "    RTRAIN(ii, regre4C, trainloader)\n",
    "    RTEST(regre4C, valloader)\n",
    "    #rmse.append(RTEST(regre4C, valloader)[1])\n"
   ]
  },
  {
   "cell_type": "code",
   "execution_count": 432,
   "metadata": {},
   "outputs": [
    {
     "name": "stdout",
     "output_type": "stream",
     "text": [
      "[EPOCH 1]\t[TRAIN LOSS]: 9.895173\t[TRAIN RMSE]: 9.895173\n",
      "[TEST LOSS AVG]: 6.688717\t[TEST RMSE AVG]: 6.688717\n",
      "[EPOCH 2]\t[TRAIN LOSS]: 6.365457\t[TRAIN RMSE]: 6.365457\n",
      "[TEST LOSS AVG]: 6.201161\t[TEST RMSE AVG]: 6.201161\n",
      "[EPOCH 3]\t[TRAIN LOSS]: 6.048568\t[TRAIN RMSE]: 6.048568\n",
      "[TEST LOSS AVG]: 6.164957\t[TEST RMSE AVG]: 6.164957\n",
      "[EPOCH 4]\t[TRAIN LOSS]: 6.048359\t[TRAIN RMSE]: 6.048359\n",
      "[TEST LOSS AVG]: 6.166826\t[TEST RMSE AVG]: 6.166826\n",
      "[EPOCH 5]\t[TRAIN LOSS]: 6.035577\t[TRAIN RMSE]: 6.035577\n",
      "[TEST LOSS AVG]: 6.156103\t[TEST RMSE AVG]: 6.156103\n",
      "[EPOCH 6]\t[TRAIN LOSS]: 6.034102\t[TRAIN RMSE]: 6.034102\n",
      "[TEST LOSS AVG]: 6.149009\t[TEST RMSE AVG]: 6.149009\n",
      "[EPOCH 7]\t[TRAIN LOSS]: 6.026664\t[TRAIN RMSE]: 6.026664\n",
      "[TEST LOSS AVG]: 6.126869\t[TEST RMSE AVG]: 6.126869\n",
      "[EPOCH 8]\t[TRAIN LOSS]: 6.021761\t[TRAIN RMSE]: 6.021761\n",
      "[TEST LOSS AVG]: 6.218838\t[TEST RMSE AVG]: 6.218838\n",
      "[EPOCH 9]\t[TRAIN LOSS]: 6.015201\t[TRAIN RMSE]: 6.015201\n",
      "[TEST LOSS AVG]: 6.149220\t[TEST RMSE AVG]: 6.149219\n",
      "[EPOCH 10]\t[TRAIN LOSS]: 6.000154\t[TRAIN RMSE]: 6.000154\n",
      "[TEST LOSS AVG]: 6.211660\t[TEST RMSE AVG]: 6.211660\n",
      "[EPOCH 11]\t[TRAIN LOSS]: 5.999140\t[TRAIN RMSE]: 5.999140\n",
      "[TEST LOSS AVG]: 6.111895\t[TEST RMSE AVG]: 6.111895\n",
      "[EPOCH 12]\t[TRAIN LOSS]: 5.997038\t[TRAIN RMSE]: 5.997038\n",
      "[TEST LOSS AVG]: 6.249451\t[TEST RMSE AVG]: 6.249451\n",
      "[EPOCH 13]\t[TRAIN LOSS]: 5.994263\t[TRAIN RMSE]: 5.994263\n",
      "[TEST LOSS AVG]: 6.128012\t[TEST RMSE AVG]: 6.128012\n",
      "[EPOCH 14]\t[TRAIN LOSS]: 5.991522\t[TRAIN RMSE]: 5.991522\n",
      "[TEST LOSS AVG]: 6.184028\t[TEST RMSE AVG]: 6.184028\n",
      "[EPOCH 15]\t[TRAIN LOSS]: 5.988963\t[TRAIN RMSE]: 5.988963\n",
      "[TEST LOSS AVG]: 6.146759\t[TEST RMSE AVG]: 6.146759\n",
      "[EPOCH 16]\t[TRAIN LOSS]: 5.995096\t[TRAIN RMSE]: 5.995096\n",
      "[TEST LOSS AVG]: 6.083118\t[TEST RMSE AVG]: 6.083118\n",
      "[EPOCH 17]\t[TRAIN LOSS]: 5.979086\t[TRAIN RMSE]: 5.979086\n",
      "[TEST LOSS AVG]: 6.129957\t[TEST RMSE AVG]: 6.129957\n",
      "[EPOCH 18]\t[TRAIN LOSS]: 5.996212\t[TRAIN RMSE]: 5.996212\n",
      "[TEST LOSS AVG]: 6.142496\t[TEST RMSE AVG]: 6.142496\n",
      "[EPOCH 19]\t[TRAIN LOSS]: 5.980562\t[TRAIN RMSE]: 5.980562\n",
      "[TEST LOSS AVG]: 6.159424\t[TEST RMSE AVG]: 6.159424\n",
      "[EPOCH 20]\t[TRAIN LOSS]: 5.983805\t[TRAIN RMSE]: 5.983805\n",
      "[TEST LOSS AVG]: 6.198455\t[TEST RMSE AVG]: 6.198455\n"
     ]
    },
    {
     "data": {
      "image/png": "[encoded data removed]",
      "text/plain": [
       "<Figure size 720x432 with 1 Axes>"
      ]
     },
     "metadata": {
      "needs_background": "light"
     },
     "output_type": "display_data"
    },
    {
     "data": {
      "image/png": "[encoded data removed]",
      "text/plain": [
       "<Figure size 720x432 with 1 Axes>"
      ]
     },
     "metadata": {
      "needs_background": "light"
     },
     "output_type": "display_data"
    }
   ],
   "source": [
    "regre4 = buildregre4(128)\n",
    "#regre3C = buildregre3(1)\n",
    "RcompareTrainTest(regre4, 20, True);"
   ]
  },
  {
   "cell_type": "code",
   "execution_count": 431,
   "metadata": {},
   "outputs": [
    {
     "name": "stdout",
     "output_type": "stream",
     "text": [
      "[EPOCH 0]\t[TRAIN LOSS]: 9.861779\t[TRAIN RMSE]: 9.861779\n",
      "[EPOCH 1]\t[TRAIN LOSS]: 6.346452\t[TRAIN RMSE]: 6.346452\n",
      "[EPOCH 2]\t[TRAIN LOSS]: 6.044826\t[TRAIN RMSE]: 6.044826\n",
      "[EPOCH 3]\t[TRAIN LOSS]: 6.039268\t[TRAIN RMSE]: 6.039268\n",
      "[TEST LOSS AVG]: 5.985864\t[TEST RMSE AVG]: 5.985864\n"
     ]
    },
    {
     "data": {
      "text/plain": [
       "(5.9858640524057245, 5.985864085069555)"
      ]
     },
     "execution_count": 431,
     "metadata": {},
     "output_type": "execute_result"
    }
   ],
   "source": [
    "regre4C = buildregre4(128)\n",
    "for ii in range(4):\n",
    "    RTRAIN(ii, regre4C, trainloader)\n",
    "RTEST(regre4C, valloader)"
   ]
  },
  {
   "cell_type": "code",
   "execution_count": 234,
   "metadata": {},
   "outputs": [
    {
     "name": "stdout",
     "output_type": "stream",
     "text": [
      "69\n"
     ]
    },
    {
     "data": {
      "image/png": "[encoded data removed]",
      "text/plain": [
       "<Figure size 432x288 with 1 Axes>"
      ]
     },
     "metadata": {
      "needs_background": "light"
     },
     "output_type": "display_data"
    }
   ],
   "source": [
    "plt.plot(rmse)\n",
    "print(rmse.index(min(rmse)))"
   ]
  },
  {
   "cell_type": "code",
   "execution_count": 241,
   "metadata": {},
   "outputs": [
    {
     "name": "stdout",
     "output_type": "stream",
     "text": [
      "[TEST LOSS AVG]: 5.994236\t[TEST RMSE AVG]: 5.994236\n",
      "[TEST LOSS AVG]: 5.938059\t[TEST RMSE AVG]: 5.938059\n",
      "[TEST LOSS AVG]: 6.158370\t[TEST RMSE AVG]: 6.158370\n",
      "[TEST LOSS AVG]: 5.981757\t[TEST RMSE AVG]: 5.981757\n",
      "[TEST LOSS AVG]: 5.937886\t[TEST RMSE AVG]: 5.937886\n",
      "[TEST LOSS AVG]: 6.072060\t[TEST RMSE AVG]: 6.072060\n",
      "[TEST LOSS AVG]: 6.001964\t[TEST RMSE AVG]: 6.001964\n",
      "[TEST LOSS AVG]: 6.023784\t[TEST RMSE AVG]: 6.023784\n",
      "[TEST LOSS AVG]: 6.047154\t[TEST RMSE AVG]: 6.047154\n",
      "[TEST LOSS AVG]: 6.024112\t[TEST RMSE AVG]: 6.024112\n",
      "[TEST LOSS AVG]: 5.970403\t[TEST RMSE AVG]: 5.970403\n",
      "[TEST LOSS AVG]: 6.018062\t[TEST RMSE AVG]: 6.018062\n",
      "[TEST LOSS AVG]: 6.004765\t[TEST RMSE AVG]: 6.004765\n",
      "[TEST LOSS AVG]: 5.953081\t[TEST RMSE AVG]: 5.953081\n",
      "[TEST LOSS AVG]: 6.017312\t[TEST RMSE AVG]: 6.017312\n",
      "[TEST LOSS AVG]: 5.937705\t[TEST RMSE AVG]: 5.937705\n",
      "[TEST LOSS AVG]: 6.065490\t[TEST RMSE AVG]: 6.065490\n",
      "[TEST LOSS AVG]: 5.978513\t[TEST RMSE AVG]: 5.978514\n",
      "[TEST LOSS AVG]: 6.029115\t[TEST RMSE AVG]: 6.029115\n",
      "[TEST LOSS AVG]: 6.043168\t[TEST RMSE AVG]: 6.043168\n",
      "[TEST LOSS AVG]: 5.942170\t[TEST RMSE AVG]: 5.942170\n",
      "[TEST LOSS AVG]: 6.017529\t[TEST RMSE AVG]: 6.017529\n",
      "[TEST LOSS AVG]: 6.056706\t[TEST RMSE AVG]: 6.056706\n",
      "[TEST LOSS AVG]: 6.071925\t[TEST RMSE AVG]: 6.071925\n",
      "[TEST LOSS AVG]: 5.993368\t[TEST RMSE AVG]: 5.993368\n",
      "[TEST LOSS AVG]: 6.050034\t[TEST RMSE AVG]: 6.050034\n",
      "[TEST LOSS AVG]: 6.010222\t[TEST RMSE AVG]: 6.010222\n",
      "[TEST LOSS AVG]: 5.982945\t[TEST RMSE AVG]: 5.982945\n",
      "[TEST LOSS AVG]: 6.022452\t[TEST RMSE AVG]: 6.022452\n",
      "[TEST LOSS AVG]: 6.022820\t[TEST RMSE AVG]: 6.022820\n",
      "[TEST LOSS AVG]: 5.901838\t[TEST RMSE AVG]: 5.901838\n",
      "[TEST LOSS AVG]: 5.969205\t[TEST RMSE AVG]: 5.969205\n",
      "[TEST LOSS AVG]: 5.951982\t[TEST RMSE AVG]: 5.951982\n",
      "[TEST LOSS AVG]: 5.902998\t[TEST RMSE AVG]: 5.902998\n",
      "[TEST LOSS AVG]: 5.944031\t[TEST RMSE AVG]: 5.944031\n",
      "[TEST LOSS AVG]: 6.036593\t[TEST RMSE AVG]: 6.036593\n",
      "[TEST LOSS AVG]: 5.925592\t[TEST RMSE AVG]: 5.925592\n",
      "[TEST LOSS AVG]: 5.997932\t[TEST RMSE AVG]: 5.997932\n",
      "[TEST LOSS AVG]: 6.003341\t[TEST RMSE AVG]: 6.003341\n",
      "[TEST LOSS AVG]: 6.033338\t[TEST RMSE AVG]: 6.033338\n",
      "[TEST LOSS AVG]: 6.087133\t[TEST RMSE AVG]: 6.087133\n",
      "[TEST LOSS AVG]: 6.057245\t[TEST RMSE AVG]: 6.057245\n",
      "[TEST LOSS AVG]: 5.963985\t[TEST RMSE AVG]: 5.963985\n",
      "[TEST LOSS AVG]: 6.039955\t[TEST RMSE AVG]: 6.039955\n",
      "[TEST LOSS AVG]: 5.982544\t[TEST RMSE AVG]: 5.982544\n",
      "[TEST LOSS AVG]: 5.933849\t[TEST RMSE AVG]: 5.933849\n",
      "[TEST LOSS AVG]: 5.981612\t[TEST RMSE AVG]: 5.981612\n",
      "[TEST LOSS AVG]: 6.070677\t[TEST RMSE AVG]: 6.070677\n",
      "[TEST LOSS AVG]: 5.988238\t[TEST RMSE AVG]: 5.988238\n",
      "[TEST LOSS AVG]: 5.942932\t[TEST RMSE AVG]: 5.942932\n"
     ]
    },
    {
     "data": {
      "text/plain": [
       "[<matplotlib.lines.Line2D at 0x7fe61974cfa0>]"
      ]
     },
     "execution_count": 241,
     "metadata": {},
     "output_type": "execute_result"
    },
    {
     "data": {
      "image/png": "[encoded data removed]",
      "text/plain": [
       "<Figure size 432x288 with 1 Axes>"
      ]
     },
     "metadata": {
      "needs_background": "light"
     },
     "output_type": "display_data"
    }
   ],
   "source": [
    "\n",
    "RSrmse = []\n",
    "for ii in np.random.randint(1,1000, size = 50):\n",
    "    _,_,valloader = getLoaders(ii)\n",
    "    RSrmse.append(RTEST(regre4C, valloader)[1])\n"
   ]
  },
  {
   "cell_type": "code",
   "execution_count": 437,
   "metadata": {},
   "outputs": [
    {
     "name": "stdout",
     "output_type": "stream",
     "text": [
      "[EPOCH 0]\t[TRAIN LOSS]: 8.692639\t[TRAIN RMSE]: 8.692639\n",
      "[TEST LOSS AVG]: 6.503532\t[TEST RMSE AVG]: 6.503532\n",
      "[EPOCH 1]\t[TRAIN LOSS]: 6.220097\t[TRAIN RMSE]: 6.220097\n",
      "[TEST LOSS AVG]: 6.014614\t[TEST RMSE AVG]: 6.014614\n",
      "[EPOCH 2]\t[TRAIN LOSS]: 6.046321\t[TRAIN RMSE]: 6.046321\n",
      "[TEST LOSS AVG]: 5.994968\t[TEST RMSE AVG]: 5.994968\n",
      "[EPOCH 3]\t[TRAIN LOSS]: 6.040453\t[TRAIN RMSE]: 6.040453\n",
      "[TEST LOSS AVG]: 6.092912\t[TEST RMSE AVG]: 6.092912\n",
      "[EPOCH 4]\t[TRAIN LOSS]: 6.026614\t[TRAIN RMSE]: 6.026614\n",
      "[TEST LOSS AVG]: 5.988486\t[TEST RMSE AVG]: 5.988486\n",
      "[EPOCH 5]\t[TRAIN LOSS]: 6.025155\t[TRAIN RMSE]: 6.025155\n",
      "[TEST LOSS AVG]: 5.954568\t[TEST RMSE AVG]: 5.954568\n",
      "[EPOCH 6]\t[TRAIN LOSS]: 6.019432\t[TRAIN RMSE]: 6.019432\n",
      "[TEST LOSS AVG]: 6.334162\t[TEST RMSE AVG]: 6.334162\n",
      "[EPOCH 7]\t[TRAIN LOSS]: 6.018013\t[TRAIN RMSE]: 6.018013\n",
      "[TEST LOSS AVG]: 6.019957\t[TEST RMSE AVG]: 6.019957\n",
      "[EPOCH 8]\t[TRAIN LOSS]: 6.012180\t[TRAIN RMSE]: 6.012180\n",
      "[TEST LOSS AVG]: 5.979551\t[TEST RMSE AVG]: 5.979551\n",
      "[EPOCH 9]\t[TRAIN LOSS]: 6.008420\t[TRAIN RMSE]: 6.008420\n",
      "[TEST LOSS AVG]: 5.961612\t[TEST RMSE AVG]: 5.961612\n"
     ]
    }
   ],
   "source": [
    "regre4C = buildregre4(200)\n",
    "for ii in range(10):\n",
    "    RTRAIN(ii, regre4C, trainloader)\n",
    "    RTEST(regre4C, valloader)"
   ]
  },
  {
   "cell_type": "code",
   "execution_count": 243,
   "metadata": {},
   "outputs": [
    {
     "name": "stdout",
     "output_type": "stream",
     "text": [
      "0.05162486465557875\n",
      "6.00164378266784\n"
     ]
    },
    {
     "data": {
      "image/png": "[encoded data removed]",
      "text/plain": [
       "<Figure size 432x288 with 1 Axes>"
      ]
     },
     "metadata": {
      "needs_background": "light"
     },
     "output_type": "display_data"
    }
   ],
   "source": [
    "\n",
    "plt.boxplot(RSrmse)\n",
    "print(np.std(RSrmse))\n",
    "print(np.mean(RSrmse))"
   ]
  },
  {
   "cell_type": "code",
   "execution_count": 228,
   "metadata": {},
   "outputs": [
    {
     "name": "stdout",
     "output_type": "stream",
     "text": [
      "[EPOCH 0]\t[TRAIN LOSS]: 17.324164\t[TRAIN RMSE]: 17.324164\n",
      "[EPOCH 1]\t[TRAIN LOSS]: 6.659174\t[TRAIN RMSE]: 6.659174\n",
      "[EPOCH 2]\t[TRAIN LOSS]: 6.388995\t[TRAIN RMSE]: 6.388995\n",
      "[EPOCH 3]\t[TRAIN LOSS]: 6.211037\t[TRAIN RMSE]: 6.211037\n",
      "[EPOCH 4]\t[TRAIN LOSS]: 6.125153\t[TRAIN RMSE]: 6.125153\n",
      "[EPOCH 5]\t[TRAIN LOSS]: 6.081491\t[TRAIN RMSE]: 6.081491\n",
      "[EPOCH 6]\t[TRAIN LOSS]: 6.060020\t[TRAIN RMSE]: 6.060020\n",
      "[EPOCH 7]\t[TRAIN LOSS]: 6.044158\t[TRAIN RMSE]: 6.044158\n",
      "[EPOCH 8]\t[TRAIN LOSS]: 6.042386\t[TRAIN RMSE]: 6.042386\n",
      "[EPOCH 9]\t[TRAIN LOSS]: 6.034081\t[TRAIN RMSE]: 6.034081\n",
      "[EPOCH 10]\t[TRAIN LOSS]: 6.029033\t[TRAIN RMSE]: 6.029033\n",
      "[EPOCH 11]\t[TRAIN LOSS]: 6.019470\t[TRAIN RMSE]: 6.019470\n",
      "[EPOCH 12]\t[TRAIN LOSS]: 6.019147\t[TRAIN RMSE]: 6.019147\n",
      "[EPOCH 13]\t[TRAIN LOSS]: 6.003873\t[TRAIN RMSE]: 6.003873\n",
      "[EPOCH 14]\t[TRAIN LOSS]: 6.001025\t[TRAIN RMSE]: 6.001025\n",
      "[EPOCH 15]\t[TRAIN LOSS]: 5.997859\t[TRAIN RMSE]: 5.997859\n",
      "[EPOCH 16]\t[TRAIN LOSS]: 5.992318\t[TRAIN RMSE]: 5.992318\n",
      "[EPOCH 17]\t[TRAIN LOSS]: 5.983995\t[TRAIN RMSE]: 5.983995\n",
      "[EPOCH 18]\t[TRAIN LOSS]: 5.980977\t[TRAIN RMSE]: 5.980977\n",
      "[EPOCH 19]\t[TRAIN LOSS]: 5.983423\t[TRAIN RMSE]: 5.983423\n",
      "[TEST LOSS AVG]: 6.031938\t[TEST RMSE AVG]: 6.031938\n"
     ]
    },
    {
     "data": {
      "text/plain": [
       "(6.03193763586191, 6.031937638398121)"
      ]
     },
     "execution_count": 228,
     "metadata": {},
     "output_type": "execute_result"
    }
   ],
   "source": [
    "regre4C = buildregre4(h)\n",
    "rmse = []\n",
    "for ii in range(20):\n",
    "    RTRAIN(ii, regre4C, trainloader)\n",
    "RTEST(regre4C, valloader)"
   ]
  },
  {
   "cell_type": "code",
   "execution_count": 240,
   "metadata": {},
   "outputs": [
    {
     "data": {
      "text/plain": [
       "array([145, 266, 347, 811, 169, 748, 818, 839, 870, 751, 516, 306,  10,\n",
       "       342, 883, 884, 934, 503, 967, 528, 292, 512, 972, 481, 564, 906,\n",
       "       830, 693, 712, 878, 336, 495,  63, 979, 902, 283,  66, 325, 101,\n",
       "       737, 837, 429, 724, 852, 454, 969, 698, 424, 152, 265])"
      ]
     },
     "execution_count": 240,
     "metadata": {},
     "output_type": "execute_result"
    }
   ],
   "source": [
    "np.random.randint(1,1000, size = 50)"
   ]
  },
  {
   "cell_type": "code",
   "execution_count": 353,
   "metadata": {},
   "outputs": [
    {
     "data": {
      "text/plain": [
       "tensor(3)"
      ]
     },
     "execution_count": 353,
     "metadata": {},
     "output_type": "execute_result"
    }
   ],
   "source": [
    "x = torch.tensor([0.5,0.4,0.3,0.6,0.7])\n",
    "y = torch.tensor([1,0,0,0,1])\n",
    "(x.round() == y).sum()"
   ]
  },
  {
   "cell_type": "markdown",
   "metadata": {},
   "source": [
    "## EC a) Are there any predictors/features that have effectively no impact on the accuracy of these models? If so, please list them and comment briefly on your findings\n"
   ]
  },
  {
   "cell_type": "code",
   "execution_count": 391,
   "metadata": {},
   "outputs": [],
   "source": [
    "df = pd.read_csv('diabetes.csv')#.drop('Zodiac', axis = 1)\n",
    "dfO = df.copy()\n",
    "def toDummy(df, var):\n",
    "    df = df.join(pd.get_dummies(df[var], prefix= var)).drop(var, axis = 1)\n",
    "    return df\n",
    "df = toDummy(df, 'Zodiac')\n",
    "df = toDummy(df, 'BiologicalSex')\n",
    "df = toDummy(df, 'AgeBracket')\n",
    "df = toDummy(df, 'EducationBracket')\n",
    "df = toDummy(df, 'IncomeBracket')\n",
    "hiddensize = 32\n",
    "def build(N):\n",
    "    model = nn.Sequential(\n",
    "                nn.Linear(N, 32),\n",
    "                nn.ReLU(),\n",
    "                nn.Linear(32, 32),\n",
    "                nn.ReLU(),\n",
    "                nn.Linear(32, 1),\n",
    "                nn.Sigmoid()\n",
    "    )\n",
    "    return model\n",
    "trainloader, testloader, valloader = getLoaders(42)"
   ]
  },
  {
   "cell_type": "code",
   "execution_count": 384,
   "metadata": {},
   "outputs": [],
   "source": [
    "from sklearn.metrics import accuracy_score\n",
    "def TRAINACC(epoch, model,lossF, train_loader):\n",
    "    model.train()\n",
    "    losses = []\n",
    "    acc = []\n",
    "    optimizer = torch.optim.Adam(model.parameters(), lr=1e-3, weight_decay=1e-3)\n",
    "    for DD in train_loader:\n",
    "        data, target = DD\n",
    "        # send data to device, where the \"device\" is either a GPU if it exists or a CPU\n",
    "        #data, target = data.to(device), target.to(device)\n",
    "        optimizer.zero_grad()\n",
    "        # forward pass through the model\n",
    "        output = model(data)\n",
    "        # forward pass through the cross-entropy loss function\n",
    "        '''try:\n",
    "            auc.append(roc_auc_score(target, output.detach().numpy()))\n",
    "        except:\n",
    "            pass'''\n",
    "        score, predicted = torch.max(output, 1)\n",
    "        acc.append((target == predicted).sum().float() / len(target))\n",
    "        loss = lossF(score.unsqueeze(1).type(torch.FloatTensor), target.unsqueeze(1).type(torch.FloatTensor))\n",
    "        losses.append(loss.item())\n",
    "        # backward pass through the cross-entropy loss function and the model\n",
    "        loss.backward()\n",
    "        \n",
    "        optimizer.step()\n",
    "    print('[EPOCH %d]\\t[TRAIN LOSS]: %f\\t[TRAIN ACC]: %f' % (epoch,np.mean(losses), np.mean(acc)))\n",
    "    #return np.mean(losses), np.mean(auc)\n",
    "\n",
    "\n",
    "def TESTACC(model,lossF, train_loader):\n",
    "    model.eval()\n",
    "    losses = []\n",
    "    acc = []\n",
    "    with torch.no_grad():\n",
    "        for batch_idx, (data, target) in enumerate(train_loader):\n",
    "            # send data to device, where the \"device\" is either a GPU if it exists or a CPU\n",
    "            data, target = data.to(device), target.to(device)\n",
    "            # forward pass through the model\n",
    "            output = model(data)\n",
    "            # forward pass through the cross-entropy loss function\n",
    "            '''try:\n",
    "                auc.append(roc_auc_score(target, output.detach().numpy()))\n",
    "            except:\n",
    "                pass'''\n",
    "            score, predicted = torch.max(output,1)\n",
    "            acc.append((target == predicted).sum().float() / len(target))\n",
    "            loss = lossF(score.unsqueeze(1).type(torch.FloatTensor), target.unsqueeze(1).type(torch.FloatTensor))\n",
    "            losses.append(loss.item())\n",
    "            # backward pass through the cross-entropy loss function and the model\n",
    "\n",
    "        print('[TEST LOSS AVG]: %f\\t[TEST ACC AVG]: %f' % (np.mean(losses), np.mean(acc)))\n",
    "    return np.mean(losses), np.mean(acc)\n"
   ]
  },
  {
   "cell_type": "code",
   "execution_count": 385,
   "metadata": {},
   "outputs": [
    {
     "name": "stdout",
     "output_type": "stream",
     "text": [
      "[EPOCH 0]\t[TRAIN LOSS]: 0.360541\t[TRAIN ACC]: 0.825374\n",
      "[EPOCH 1]\t[TRAIN LOSS]: 0.327244\t[TRAIN ACC]: 0.840964\n",
      "[EPOCH 2]\t[TRAIN LOSS]: 0.324517\t[TRAIN ACC]: 0.827953\n",
      "[EPOCH 3]\t[TRAIN LOSS]: 0.323885\t[TRAIN ACC]: 0.817520\n",
      "[EPOCH 4]\t[TRAIN LOSS]: 0.323626\t[TRAIN ACC]: 0.813707\n",
      "[EPOCH 5]\t[TRAIN LOSS]: 0.323139\t[TRAIN ACC]: 0.806654\n",
      "[EPOCH 6]\t[TRAIN LOSS]: 0.322114\t[TRAIN ACC]: 0.806614\n",
      "[EPOCH 7]\t[TRAIN LOSS]: 0.321488\t[TRAIN ACC]: 0.795459\n",
      "[EPOCH 8]\t[TRAIN LOSS]: 0.321658\t[TRAIN ACC]: 0.794869\n",
      "[EPOCH 9]\t[TRAIN LOSS]: 0.321518\t[TRAIN ACC]: 0.796982\n",
      "[EPOCH 10]\t[TRAIN LOSS]: 0.321369\t[TRAIN ACC]: 0.784587\n",
      "[TEST LOSS AVG]: 0.315825\t[TEST ACC AVG]: 0.819684\n",
      "[EPOCH 0]\t[TRAIN LOSS]: 0.379055\t[TRAIN ACC]: 0.194580\n",
      "[EPOCH 1]\t[TRAIN LOSS]: 0.327154\t[TRAIN ACC]: 0.152592\n",
      "[EPOCH 2]\t[TRAIN LOSS]: 0.324141\t[TRAIN ACC]: 0.157428\n",
      "[EPOCH 3]\t[TRAIN LOSS]: 0.322865\t[TRAIN ACC]: 0.162651\n",
      "[EPOCH 4]\t[TRAIN LOSS]: 0.323225\t[TRAIN ACC]: 0.165846\n",
      "[EPOCH 5]\t[TRAIN LOSS]: 0.322085\t[TRAIN ACC]: 0.171522\n",
      "[EPOCH 6]\t[TRAIN LOSS]: 0.321985\t[TRAIN ACC]: 0.183110\n",
      "[EPOCH 7]\t[TRAIN LOSS]: 0.321582\t[TRAIN ACC]: 0.192605\n",
      "[EPOCH 8]\t[TRAIN LOSS]: 0.321402\t[TRAIN ACC]: 0.181916\n",
      "[EPOCH 9]\t[TRAIN LOSS]: 0.322207\t[TRAIN ACC]: 0.198675\n",
      "[EPOCH 10]\t[TRAIN LOSS]: 0.321114\t[TRAIN ACC]: 0.196732\n",
      "[TEST LOSS AVG]: 0.317439\t[TEST ACC AVG]: 0.179335\n",
      "[EPOCH 0]\t[TRAIN LOSS]: 0.359342\t[TRAIN ACC]: 0.675164\n",
      "[EPOCH 1]\t[TRAIN LOSS]: 0.328062\t[TRAIN ACC]: 0.815262\n",
      "[EPOCH 2]\t[TRAIN LOSS]: 0.326853\t[TRAIN ACC]: 0.812881\n",
      "[EPOCH 3]\t[TRAIN LOSS]: 0.326865\t[TRAIN ACC]: 0.797487\n",
      "[EPOCH 4]\t[TRAIN LOSS]: 0.326605\t[TRAIN ACC]: 0.801949\n",
      "[EPOCH 5]\t[TRAIN LOSS]: 0.326342\t[TRAIN ACC]: 0.796194\n",
      "[EPOCH 6]\t[TRAIN LOSS]: 0.327008\t[TRAIN ACC]: 0.792297\n",
      "[EPOCH 7]\t[TRAIN LOSS]: 0.325993\t[TRAIN ACC]: 0.785079\n",
      "[EPOCH 8]\t[TRAIN LOSS]: 0.325368\t[TRAIN ACC]: 0.796129\n",
      "[EPOCH 9]\t[TRAIN LOSS]: 0.326339\t[TRAIN ACC]: 0.777776\n",
      "[EPOCH 10]\t[TRAIN LOSS]: 0.325199\t[TRAIN ACC]: 0.790676\n",
      "[TEST LOSS AVG]: 0.321863\t[TEST ACC AVG]: 0.807909\n",
      "[EPOCH 0]\t[TRAIN LOSS]: 0.357129\t[TRAIN ACC]: 0.177822\n",
      "[EPOCH 1]\t[TRAIN LOSS]: 0.322630\t[TRAIN ACC]: 0.152598\n",
      "[EPOCH 2]\t[TRAIN LOSS]: 0.320576\t[TRAIN ACC]: 0.160984\n",
      "[EPOCH 3]\t[TRAIN LOSS]: 0.319583\t[TRAIN ACC]: 0.167513\n",
      "[EPOCH 4]\t[TRAIN LOSS]: 0.319178\t[TRAIN ACC]: 0.174318\n",
      "[EPOCH 5]\t[TRAIN LOSS]: 0.318901\t[TRAIN ACC]: 0.176857\n",
      "[EPOCH 6]\t[TRAIN LOSS]: 0.318699\t[TRAIN ACC]: 0.187487\n",
      "[EPOCH 7]\t[TRAIN LOSS]: 0.318908\t[TRAIN ACC]: 0.191890\n",
      "[EPOCH 8]\t[TRAIN LOSS]: 0.318007\t[TRAIN ACC]: 0.187211\n",
      "[EPOCH 9]\t[TRAIN LOSS]: 0.318403\t[TRAIN ACC]: 0.195846\n",
      "[EPOCH 10]\t[TRAIN LOSS]: 0.318523\t[TRAIN ACC]: 0.192500\n",
      "[TEST LOSS AVG]: 0.317301\t[TEST ACC AVG]: 0.215229\n",
      "[EPOCH 0]\t[TRAIN LOSS]: 0.357786\t[TRAIN ACC]: 0.809587\n",
      "[EPOCH 1]\t[TRAIN LOSS]: 0.322320\t[TRAIN ACC]: 0.838642\n",
      "[EPOCH 2]\t[TRAIN LOSS]: 0.320034\t[TRAIN ACC]: 0.836706\n",
      "[EPOCH 3]\t[TRAIN LOSS]: 0.318984\t[TRAIN ACC]: 0.823858\n",
      "[EPOCH 4]\t[TRAIN LOSS]: 0.318324\t[TRAIN ACC]: 0.827251\n",
      "[EPOCH 5]\t[TRAIN LOSS]: 0.318110\t[TRAIN ACC]: 0.817021\n",
      "[EPOCH 6]\t[TRAIN LOSS]: 0.317960\t[TRAIN ACC]: 0.804140\n",
      "[EPOCH 7]\t[TRAIN LOSS]: 0.317504\t[TRAIN ACC]: 0.812736\n",
      "[EPOCH 8]\t[TRAIN LOSS]: 0.317477\t[TRAIN ACC]: 0.795525\n",
      "[EPOCH 9]\t[TRAIN LOSS]: 0.317152\t[TRAIN ACC]: 0.798025\n",
      "[EPOCH 10]\t[TRAIN LOSS]: 0.317791\t[TRAIN ACC]: 0.797985\n",
      "[TEST LOSS AVG]: 0.315349\t[TEST ACC AVG]: 0.710955\n",
      "[EPOCH 0]\t[TRAIN LOSS]: 0.369908\t[TRAIN ACC]: 0.206883\n",
      "[EPOCH 1]\t[TRAIN LOSS]: 0.322026\t[TRAIN ACC]: 0.159029\n",
      "[EPOCH 2]\t[TRAIN LOSS]: 0.320858\t[TRAIN ACC]: 0.165978\n",
      "[EPOCH 3]\t[TRAIN LOSS]: 0.319116\t[TRAIN ACC]: 0.174042\n",
      "[EPOCH 4]\t[TRAIN LOSS]: 0.318732\t[TRAIN ACC]: 0.181424\n",
      "[EPOCH 5]\t[TRAIN LOSS]: 0.318837\t[TRAIN ACC]: 0.196608\n",
      "[EPOCH 6]\t[TRAIN LOSS]: 0.318130\t[TRAIN ACC]: 0.205597\n",
      "[EPOCH 7]\t[TRAIN LOSS]: 0.317659\t[TRAIN ACC]: 0.195623\n",
      "[EPOCH 8]\t[TRAIN LOSS]: 0.318216\t[TRAIN ACC]: 0.216804\n",
      "[EPOCH 9]\t[TRAIN LOSS]: 0.318216\t[TRAIN ACC]: 0.217592\n",
      "[EPOCH 10]\t[TRAIN LOSS]: 0.317980\t[TRAIN ACC]: 0.228602\n",
      "[TEST LOSS AVG]: 0.314970\t[TEST ACC AVG]: 0.164384\n",
      "[EPOCH 0]\t[TRAIN LOSS]: 0.360707\t[TRAIN ACC]: 0.187907\n",
      "[EPOCH 1]\t[TRAIN LOSS]: 0.320442\t[TRAIN ACC]: 0.167940\n",
      "[EPOCH 2]\t[TRAIN LOSS]: 0.319533\t[TRAIN ACC]: 0.189816\n",
      "[EPOCH 3]\t[TRAIN LOSS]: 0.318939\t[TRAIN ACC]: 0.189705\n",
      "[EPOCH 4]\t[TRAIN LOSS]: 0.318089\t[TRAIN ACC]: 0.200748\n",
      "[EPOCH 5]\t[TRAIN LOSS]: 0.318559\t[TRAIN ACC]: 0.209724\n",
      "[EPOCH 6]\t[TRAIN LOSS]: 0.317570\t[TRAIN ACC]: 0.216037\n",
      "[EPOCH 7]\t[TRAIN LOSS]: 0.317005\t[TRAIN ACC]: 0.237001\n",
      "[EPOCH 8]\t[TRAIN LOSS]: 0.317226\t[TRAIN ACC]: 0.215374\n",
      "[EPOCH 9]\t[TRAIN LOSS]: 0.317000\t[TRAIN ACC]: 0.214823\n",
      "[EPOCH 10]\t[TRAIN LOSS]: 0.316652\t[TRAIN ACC]: 0.210728\n",
      "[TEST LOSS AVG]: 0.315508\t[TEST ACC AVG]: 0.245160\n",
      "[EPOCH 0]\t[TRAIN LOSS]: 0.364673\t[TRAIN ACC]: 0.822270\n",
      "[EPOCH 1]\t[TRAIN LOSS]: 0.322693\t[TRAIN ACC]: 0.849403\n",
      "[EPOCH 2]\t[TRAIN LOSS]: 0.319765\t[TRAIN ACC]: 0.842474\n",
      "[EPOCH 3]\t[TRAIN LOSS]: 0.318835\t[TRAIN ACC]: 0.828937\n",
      "[EPOCH 4]\t[TRAIN LOSS]: 0.318692\t[TRAIN ACC]: 0.829659\n",
      "[EPOCH 5]\t[TRAIN LOSS]: 0.318027\t[TRAIN ACC]: 0.827021\n",
      "[EPOCH 6]\t[TRAIN LOSS]: 0.318047\t[TRAIN ACC]: 0.819678\n",
      "[EPOCH 7]\t[TRAIN LOSS]: 0.317493\t[TRAIN ACC]: 0.817815\n",
      "[EPOCH 8]\t[TRAIN LOSS]: 0.317333\t[TRAIN ACC]: 0.810098\n",
      "[EPOCH 9]\t[TRAIN LOSS]: 0.317625\t[TRAIN ACC]: 0.813957\n",
      "[EPOCH 10]\t[TRAIN LOSS]: 0.317708\t[TRAIN ACC]: 0.804442\n",
      "[TEST LOSS AVG]: 0.315018\t[TEST ACC AVG]: 0.842963\n",
      "[EPOCH 0]\t[TRAIN LOSS]: 0.363489\t[TRAIN ACC]: 0.804580\n",
      "[EPOCH 1]\t[TRAIN LOSS]: 0.322093\t[TRAIN ACC]: 0.840322\n",
      "[EPOCH 2]\t[TRAIN LOSS]: 0.319842\t[TRAIN ACC]: 0.839574\n",
      "[EPOCH 3]\t[TRAIN LOSS]: 0.318976\t[TRAIN ACC]: 0.836719\n",
      "[EPOCH 4]\t[TRAIN LOSS]: 0.318613\t[TRAIN ACC]: 0.821627\n",
      "[EPOCH 5]\t[TRAIN LOSS]: 0.317803\t[TRAIN ACC]: 0.813097\n",
      "[EPOCH 6]\t[TRAIN LOSS]: 0.317591\t[TRAIN ACC]: 0.814193\n",
      "[EPOCH 7]\t[TRAIN LOSS]: 0.317832\t[TRAIN ACC]: 0.809744\n",
      "[EPOCH 8]\t[TRAIN LOSS]: 0.317306\t[TRAIN ACC]: 0.807874\n",
      "[EPOCH 9]\t[TRAIN LOSS]: 0.316867\t[TRAIN ACC]: 0.803051\n",
      "[EPOCH 10]\t[TRAIN LOSS]: 0.317312\t[TRAIN ACC]: 0.789724\n",
      "[TEST LOSS AVG]: 0.312407\t[TEST ACC AVG]: 0.792872\n",
      "[EPOCH 0]\t[TRAIN LOSS]: 0.362976\t[TRAIN ACC]: 0.797277\n",
      "[EPOCH 1]\t[TRAIN LOSS]: 0.322913\t[TRAIN ACC]: 0.840676\n",
      "[EPOCH 2]\t[TRAIN LOSS]: 0.320739\t[TRAIN ACC]: 0.835269\n",
      "[EPOCH 3]\t[TRAIN LOSS]: 0.320042\t[TRAIN ACC]: 0.822474\n",
      "[EPOCH 4]\t[TRAIN LOSS]: 0.319171\t[TRAIN ACC]: 0.813898\n",
      "[EPOCH 5]\t[TRAIN LOSS]: 0.318200\t[TRAIN ACC]: 0.810112\n",
      "[EPOCH 6]\t[TRAIN LOSS]: 0.318874\t[TRAIN ACC]: 0.808084\n",
      "[EPOCH 7]\t[TRAIN LOSS]: 0.318188\t[TRAIN ACC]: 0.801634\n",
      "[EPOCH 8]\t[TRAIN LOSS]: 0.318280\t[TRAIN ACC]: 0.801489\n",
      "[EPOCH 9]\t[TRAIN LOSS]: 0.318208\t[TRAIN ACC]: 0.800282\n",
      "[EPOCH 10]\t[TRAIN LOSS]: 0.317865\t[TRAIN ACC]: 0.798510\n",
      "[TEST LOSS AVG]: 0.313185\t[TEST ACC AVG]: 0.813105\n",
      "[EPOCH 0]\t[TRAIN LOSS]: 0.353515\t[TRAIN ACC]: 0.826857\n",
      "[EPOCH 1]\t[TRAIN LOSS]: 0.321426\t[TRAIN ACC]: 0.841030\n",
      "[EPOCH 2]\t[TRAIN LOSS]: 0.319570\t[TRAIN ACC]: 0.823163\n",
      "[EPOCH 3]\t[TRAIN LOSS]: 0.319006\t[TRAIN ACC]: 0.823353\n",
      "[EPOCH 4]\t[TRAIN LOSS]: 0.318792\t[TRAIN ACC]: 0.816273\n",
      "[EPOCH 5]\t[TRAIN LOSS]: 0.318637\t[TRAIN ACC]: 0.798163\n",
      "[EPOCH 6]\t[TRAIN LOSS]: 0.317819\t[TRAIN ACC]: 0.807467\n",
      "[EPOCH 7]\t[TRAIN LOSS]: 0.317645\t[TRAIN ACC]: 0.805984\n",
      "[EPOCH 8]\t[TRAIN LOSS]: 0.317554\t[TRAIN ACC]: 0.798386\n",
      "[EPOCH 9]\t[TRAIN LOSS]: 0.317519\t[TRAIN ACC]: 0.792159\n",
      "[EPOCH 10]\t[TRAIN LOSS]: 0.317433\t[TRAIN ACC]: 0.790820\n",
      "[TEST LOSS AVG]: 0.314817\t[TEST ACC AVG]: 0.790403\n",
      "[EPOCH 0]\t[TRAIN LOSS]: 0.358059\t[TRAIN ACC]: 0.177802\n",
      "[EPOCH 1]\t[TRAIN LOSS]: 0.322254\t[TRAIN ACC]: 0.155833\n",
      "[EPOCH 2]\t[TRAIN LOSS]: 0.319732\t[TRAIN ACC]: 0.165715\n",
      "[EPOCH 3]\t[TRAIN LOSS]: 0.318852\t[TRAIN ACC]: 0.174219\n",
      "[EPOCH 4]\t[TRAIN LOSS]: 0.319013\t[TRAIN ACC]: 0.183491\n",
      "[EPOCH 5]\t[TRAIN LOSS]: 0.318183\t[TRAIN ACC]: 0.184396\n",
      "[EPOCH 6]\t[TRAIN LOSS]: 0.318118\t[TRAIN ACC]: 0.186352\n",
      "[EPOCH 7]\t[TRAIN LOSS]: 0.317960\t[TRAIN ACC]: 0.190571\n",
      "[EPOCH 8]\t[TRAIN LOSS]: 0.317339\t[TRAIN ACC]: 0.192106\n",
      "[EPOCH 9]\t[TRAIN LOSS]: 0.317320\t[TRAIN ACC]: 0.195597\n",
      "[EPOCH 10]\t[TRAIN LOSS]: 0.316585\t[TRAIN ACC]: 0.208878\n",
      "[TEST LOSS AVG]: 0.312234\t[TEST ACC AVG]: 0.156182\n",
      "[EPOCH 0]\t[TRAIN LOSS]: 0.360805\t[TRAIN ACC]: 0.791089\n",
      "[EPOCH 1]\t[TRAIN LOSS]: 0.330559\t[TRAIN ACC]: 0.845013\n",
      "[EPOCH 2]\t[TRAIN LOSS]: 0.329032\t[TRAIN ACC]: 0.843012\n",
      "[EPOCH 3]\t[TRAIN LOSS]: 0.327638\t[TRAIN ACC]: 0.828255\n",
      "[EPOCH 4]\t[TRAIN LOSS]: 0.327421\t[TRAIN ACC]: 0.830433\n",
      "[EPOCH 5]\t[TRAIN LOSS]: 0.327117\t[TRAIN ACC]: 0.820748\n",
      "[EPOCH 6]\t[TRAIN LOSS]: 0.326305\t[TRAIN ACC]: 0.816647\n",
      "[EPOCH 7]\t[TRAIN LOSS]: 0.325706\t[TRAIN ACC]: 0.818163\n",
      "[EPOCH 8]\t[TRAIN LOSS]: 0.325728\t[TRAIN ACC]: 0.807421\n",
      "[EPOCH 9]\t[TRAIN LOSS]: 0.325707\t[TRAIN ACC]: 0.790171\n",
      "[EPOCH 10]\t[TRAIN LOSS]: 0.325830\t[TRAIN ACC]: 0.793904\n",
      "[TEST LOSS AVG]: 0.324685\t[TEST ACC AVG]: 0.789043\n",
      "[EPOCH 0]\t[TRAIN LOSS]: 0.356731\t[TRAIN ACC]: 0.183799\n",
      "[EPOCH 1]\t[TRAIN LOSS]: 0.321648\t[TRAIN ACC]: 0.158143\n",
      "[EPOCH 2]\t[TRAIN LOSS]: 0.320232\t[TRAIN ACC]: 0.164869\n",
      "[EPOCH 3]\t[TRAIN LOSS]: 0.319519\t[TRAIN ACC]: 0.179022\n",
      "[EPOCH 4]\t[TRAIN LOSS]: 0.319086\t[TRAIN ACC]: 0.185945\n",
      "[EPOCH 5]\t[TRAIN LOSS]: 0.318637\t[TRAIN ACC]: 0.190735\n",
      "[EPOCH 6]\t[TRAIN LOSS]: 0.318271\t[TRAIN ACC]: 0.201870\n",
      "[EPOCH 7]\t[TRAIN LOSS]: 0.317853\t[TRAIN ACC]: 0.201581\n",
      "[EPOCH 8]\t[TRAIN LOSS]: 0.317583\t[TRAIN ACC]: 0.211916\n",
      "[EPOCH 9]\t[TRAIN LOSS]: 0.318449\t[TRAIN ACC]: 0.221201\n",
      "[EPOCH 10]\t[TRAIN LOSS]: 0.317458\t[TRAIN ACC]: 0.245427\n",
      "[TEST LOSS AVG]: 0.314121\t[TEST ACC AVG]: 0.207656\n",
      "[EPOCH 0]\t[TRAIN LOSS]: 0.364645\t[TRAIN ACC]: 0.813281\n",
      "[EPOCH 1]\t[TRAIN LOSS]: 0.322485\t[TRAIN ACC]: 0.840427\n",
      "[EPOCH 2]\t[TRAIN LOSS]: 0.319509\t[TRAIN ACC]: 0.830486\n",
      "[EPOCH 3]\t[TRAIN LOSS]: 0.318452\t[TRAIN ACC]: 0.812730\n",
      "[EPOCH 4]\t[TRAIN LOSS]: 0.317879\t[TRAIN ACC]: 0.805873\n",
      "[EPOCH 5]\t[TRAIN LOSS]: 0.317962\t[TRAIN ACC]: 0.801745\n",
      "[EPOCH 6]\t[TRAIN LOSS]: 0.316941\t[TRAIN ACC]: 0.798924\n",
      "[EPOCH 7]\t[TRAIN LOSS]: 0.317232\t[TRAIN ACC]: 0.795249\n",
      "[EPOCH 8]\t[TRAIN LOSS]: 0.316612\t[TRAIN ACC]: 0.795348\n",
      "[EPOCH 9]\t[TRAIN LOSS]: 0.317738\t[TRAIN ACC]: 0.779239\n",
      "[EPOCH 10]\t[TRAIN LOSS]: 0.316733\t[TRAIN ACC]: 0.781220\n",
      "[TEST LOSS AVG]: 0.310863\t[TEST ACC AVG]: 0.772531\n",
      "[EPOCH 0]\t[TRAIN LOSS]: 0.355652\t[TRAIN ACC]: 0.183491\n",
      "[EPOCH 1]\t[TRAIN LOSS]: 0.322066\t[TRAIN ACC]: 0.157854\n",
      "[EPOCH 2]\t[TRAIN LOSS]: 0.320481\t[TRAIN ACC]: 0.167106\n",
      "[EPOCH 3]\t[TRAIN LOSS]: 0.319289\t[TRAIN ACC]: 0.179678\n",
      "[EPOCH 4]\t[TRAIN LOSS]: 0.318981\t[TRAIN ACC]: 0.174436\n",
      "[EPOCH 5]\t[TRAIN LOSS]: 0.318441\t[TRAIN ACC]: 0.179915\n",
      "[EPOCH 6]\t[TRAIN LOSS]: 0.318218\t[TRAIN ACC]: 0.184751\n",
      "[EPOCH 7]\t[TRAIN LOSS]: 0.318814\t[TRAIN ACC]: 0.184547\n",
      "[EPOCH 8]\t[TRAIN LOSS]: 0.318141\t[TRAIN ACC]: 0.191234\n",
      "[EPOCH 9]\t[TRAIN LOSS]: 0.317709\t[TRAIN ACC]: 0.200696\n",
      "[EPOCH 10]\t[TRAIN LOSS]: 0.317941\t[TRAIN ACC]: 0.208104\n",
      "[TEST LOSS AVG]: 0.317132\t[TEST ACC AVG]: 0.186263\n",
      "[EPOCH 0]\t[TRAIN LOSS]: 0.355698\t[TRAIN ACC]: 0.804665\n",
      "[EPOCH 1]\t[TRAIN LOSS]: 0.323685\t[TRAIN ACC]: 0.846568\n",
      "[EPOCH 2]\t[TRAIN LOSS]: 0.321972\t[TRAIN ACC]: 0.837487\n",
      "[EPOCH 3]\t[TRAIN LOSS]: 0.320929\t[TRAIN ACC]: 0.830735\n",
      "[EPOCH 4]\t[TRAIN LOSS]: 0.320263\t[TRAIN ACC]: 0.824541\n",
      "[EPOCH 5]\t[TRAIN LOSS]: 0.320091\t[TRAIN ACC]: 0.809711\n",
      "[EPOCH 6]\t[TRAIN LOSS]: 0.319113\t[TRAIN ACC]: 0.818668\n",
      "[EPOCH 7]\t[TRAIN LOSS]: 0.319900\t[TRAIN ACC]: 0.801325\n",
      "[EPOCH 8]\t[TRAIN LOSS]: 0.318926\t[TRAIN ACC]: 0.785571\n",
      "[EPOCH 9]\t[TRAIN LOSS]: 0.318436\t[TRAIN ACC]: 0.798038\n",
      "[EPOCH 10]\t[TRAIN LOSS]: 0.318547\t[TRAIN ACC]: 0.793353\n",
      "[TEST LOSS AVG]: 0.319104\t[TEST ACC AVG]: 0.806964\n",
      "[EPOCH 0]\t[TRAIN LOSS]: 0.368202\t[TRAIN ACC]: 0.813484\n",
      "[EPOCH 1]\t[TRAIN LOSS]: 0.329655\t[TRAIN ACC]: 0.844062\n",
      "[EPOCH 2]\t[TRAIN LOSS]: 0.326178\t[TRAIN ACC]: 0.835833\n",
      "[EPOCH 3]\t[TRAIN LOSS]: 0.325311\t[TRAIN ACC]: 0.829521\n",
      "[EPOCH 4]\t[TRAIN LOSS]: 0.324477\t[TRAIN ACC]: 0.822172\n",
      "[EPOCH 5]\t[TRAIN LOSS]: 0.324279\t[TRAIN ACC]: 0.822585\n",
      "[EPOCH 6]\t[TRAIN LOSS]: 0.323575\t[TRAIN ACC]: 0.827251\n",
      "[EPOCH 7]\t[TRAIN LOSS]: 0.323531\t[TRAIN ACC]: 0.820335\n",
      "[EPOCH 8]\t[TRAIN LOSS]: 0.323285\t[TRAIN ACC]: 0.820407\n",
      "[EPOCH 9]\t[TRAIN LOSS]: 0.323191\t[TRAIN ACC]: 0.821378\n",
      "[EPOCH 10]\t[TRAIN LOSS]: 0.323185\t[TRAIN ACC]: 0.818071\n",
      "[TEST LOSS AVG]: 0.318636\t[TEST ACC AVG]: 0.814736\n",
      "[EPOCH 0]\t[TRAIN LOSS]: 0.361077\t[TRAIN ACC]: 0.815059\n",
      "[EPOCH 1]\t[TRAIN LOSS]: 0.323270\t[TRAIN ACC]: 0.837185\n",
      "[EPOCH 2]\t[TRAIN LOSS]: 0.320938\t[TRAIN ACC]: 0.833563\n",
      "[EPOCH 3]\t[TRAIN LOSS]: 0.319830\t[TRAIN ACC]: 0.821529\n",
      "[EPOCH 4]\t[TRAIN LOSS]: 0.319439\t[TRAIN ACC]: 0.824304\n",
      "[EPOCH 5]\t[TRAIN LOSS]: 0.318955\t[TRAIN ACC]: 0.815820\n",
      "[EPOCH 6]\t[TRAIN LOSS]: 0.318113\t[TRAIN ACC]: 0.807867\n",
      "[EPOCH 7]\t[TRAIN LOSS]: 0.318127\t[TRAIN ACC]: 0.803136\n",
      "[EPOCH 8]\t[TRAIN LOSS]: 0.317318\t[TRAIN ACC]: 0.807224\n",
      "[EPOCH 9]\t[TRAIN LOSS]: 0.317761\t[TRAIN ACC]: 0.802349\n",
      "[EPOCH 10]\t[TRAIN LOSS]: 0.316994\t[TRAIN ACC]: 0.799764\n",
      "[TEST LOSS AVG]: 0.312804\t[TEST ACC AVG]: 0.831941\n",
      "[EPOCH 0]\t[TRAIN LOSS]: 0.352987\t[TRAIN ACC]: 0.830801\n",
      "[EPOCH 1]\t[TRAIN LOSS]: 0.323672\t[TRAIN ACC]: 0.843871\n",
      "[EPOCH 2]\t[TRAIN LOSS]: 0.321217\t[TRAIN ACC]: 0.834829\n",
      "[EPOCH 3]\t[TRAIN LOSS]: 0.320739\t[TRAIN ACC]: 0.824954\n",
      "[EPOCH 4]\t[TRAIN LOSS]: 0.320276\t[TRAIN ACC]: 0.816575\n",
      "[EPOCH 5]\t[TRAIN LOSS]: 0.319136\t[TRAIN ACC]: 0.814652\n",
      "[EPOCH 6]\t[TRAIN LOSS]: 0.318417\t[TRAIN ACC]: 0.813701\n",
      "[EPOCH 7]\t[TRAIN LOSS]: 0.318319\t[TRAIN ACC]: 0.804954\n",
      "[EPOCH 8]\t[TRAIN LOSS]: 0.317806\t[TRAIN ACC]: 0.800013\n",
      "[EPOCH 9]\t[TRAIN LOSS]: 0.317609\t[TRAIN ACC]: 0.808038\n",
      "[EPOCH 10]\t[TRAIN LOSS]: 0.317691\t[TRAIN ACC]: 0.796161\n",
      "[TEST LOSS AVG]: 0.320414\t[TEST ACC AVG]: 0.785738\n",
      "[EPOCH 0]\t[TRAIN LOSS]: 0.362497\t[TRAIN ACC]: 0.829291\n",
      "[EPOCH 1]\t[TRAIN LOSS]: 0.323355\t[TRAIN ACC]: 0.848858\n",
      "[EPOCH 2]\t[TRAIN LOSS]: 0.320857\t[TRAIN ACC]: 0.839560\n",
      "[EPOCH 3]\t[TRAIN LOSS]: 0.319983\t[TRAIN ACC]: 0.832900\n",
      "[EPOCH 4]\t[TRAIN LOSS]: 0.319484\t[TRAIN ACC]: 0.832474\n",
      "[EPOCH 5]\t[TRAIN LOSS]: 0.319414\t[TRAIN ACC]: 0.828064\n",
      "[EPOCH 6]\t[TRAIN LOSS]: 0.318607\t[TRAIN ACC]: 0.826719\n",
      "[EPOCH 7]\t[TRAIN LOSS]: 0.318173\t[TRAIN ACC]: 0.819482\n",
      "[EPOCH 8]\t[TRAIN LOSS]: 0.318249\t[TRAIN ACC]: 0.815118\n",
      "[EPOCH 9]\t[TRAIN LOSS]: 0.318184\t[TRAIN ACC]: 0.815696\n",
      "[EPOCH 10]\t[TRAIN LOSS]: 0.318257\t[TRAIN ACC]: 0.807290\n",
      "[TEST LOSS AVG]: 0.314043\t[TEST ACC AVG]: 0.835806\n"
     ]
    }
   ],
   "source": [
    "# Permutation importance\n",
    "importances = pd.DataFrame(columns = ['AUC'])\n",
    "for ii in dfO.columns[1:]:\n",
    "    df = df.drop(ii, axis = 1)\n",
    "    try:\n",
    "        df = toDummy(df, 'Zodiac')\n",
    "    except:\n",
    "        pass\n",
    "    try:\n",
    "        df = toDummy(df, 'BiologicalSex')\n",
    "    except:\n",
    "        pass\n",
    "    try:\n",
    "        df = toDummy(df, 'AgeBracket')\n",
    "    except:\n",
    "        pass\n",
    "    try:\n",
    "        df = toDummy(df, 'EducationBracket')\n",
    "    except:\n",
    "        pass\n",
    "    try:\n",
    "        df = toDummy(df, 'IncomeBracket')\n",
    "    except:\n",
    "        pass\n",
    "    N = len(df.columns) - 1\n",
    "    #model = build(N)\n",
    "    model = nn.Sequential(\n",
    "                nn.Linear(N, 32),\n",
    "                nn.ReLU(),\n",
    "                nn.Linear(32, 32),\n",
    "                nn.ReLU(),\n",
    "                nn.Linear(32, 2),\n",
    "                nn.Sigmoid()\n",
    "    )\n",
    "    trainloader, testloader, valloader = getLoaders(42)\n",
    "    df = dfO.copy()\n",
    "\n",
    "    for jj in range(11):\n",
    "        TRAINACC(jj, model, bce, trainloader)\n",
    "    auc = TESTACC(model, bce, valloader)[1]\n",
    "    importances.loc[ii+'Dropped'] = auc\n",
    "    \n",
    "    \n"
   ]
  },
  {
   "cell_type": "code",
   "execution_count": 386,
   "metadata": {},
   "outputs": [
    {
     "data": {
      "text/html": [
       "<div>\n",
       "<style scoped>\n",
       "    .dataframe tbody tr th:only-of-type {\n",
       "        vertical-align: middle;\n",
       "    }\n",
       "\n",
       "    .dataframe tbody tr th {\n",
       "        vertical-align: top;\n",
       "    }\n",
       "\n",
       "    .dataframe thead th {\n",
       "        text-align: right;\n",
       "    }\n",
       "</style>\n",
       "<table border=\"1\" class=\"dataframe\">\n",
       "  <thead>\n",
       "    <tr style=\"text-align: right;\">\n",
       "      <th></th>\n",
       "      <th>AUC</th>\n",
       "    </tr>\n",
       "  </thead>\n",
       "  <tbody>\n",
       "    <tr>\n",
       "      <th>FruitDropped</th>\n",
       "      <td>0.842963</td>\n",
       "    </tr>\n",
       "    <tr>\n",
       "      <th>ZodiacDropped</th>\n",
       "      <td>0.835806</td>\n",
       "    </tr>\n",
       "    <tr>\n",
       "      <th>EducationBracketDropped</th>\n",
       "      <td>0.831941</td>\n",
       "    </tr>\n",
       "    <tr>\n",
       "      <th>HighBPDropped</th>\n",
       "      <td>0.819684</td>\n",
       "    </tr>\n",
       "    <tr>\n",
       "      <th>AgeBracketDropped</th>\n",
       "      <td>0.814736</td>\n",
       "    </tr>\n",
       "    <tr>\n",
       "      <th>HeavyDrinkerDropped</th>\n",
       "      <td>0.813105</td>\n",
       "    </tr>\n",
       "    <tr>\n",
       "      <th>BMIDropped</th>\n",
       "      <td>0.807909</td>\n",
       "    </tr>\n",
       "    <tr>\n",
       "      <th>BiologicalSexDropped</th>\n",
       "      <td>0.806964</td>\n",
       "    </tr>\n",
       "    <tr>\n",
       "      <th>VegetablesDropped</th>\n",
       "      <td>0.792872</td>\n",
       "    </tr>\n",
       "    <tr>\n",
       "      <th>HasHealthcareDropped</th>\n",
       "      <td>0.790403</td>\n",
       "    </tr>\n",
       "    <tr>\n",
       "      <th>GeneralHealthDropped</th>\n",
       "      <td>0.789043</td>\n",
       "    </tr>\n",
       "    <tr>\n",
       "      <th>IncomeBracketDropped</th>\n",
       "      <td>0.785738</td>\n",
       "    </tr>\n",
       "    <tr>\n",
       "      <th>PhysicalHealthDropped</th>\n",
       "      <td>0.772531</td>\n",
       "    </tr>\n",
       "    <tr>\n",
       "      <th>StrokeDropped</th>\n",
       "      <td>0.710955</td>\n",
       "    </tr>\n",
       "    <tr>\n",
       "      <th>PhysActivityDropped</th>\n",
       "      <td>0.245160</td>\n",
       "    </tr>\n",
       "    <tr>\n",
       "      <th>SmokerDropped</th>\n",
       "      <td>0.215229</td>\n",
       "    </tr>\n",
       "    <tr>\n",
       "      <th>MentalHealthDropped</th>\n",
       "      <td>0.207656</td>\n",
       "    </tr>\n",
       "    <tr>\n",
       "      <th>HardToClimbStairsDropped</th>\n",
       "      <td>0.186263</td>\n",
       "    </tr>\n",
       "    <tr>\n",
       "      <th>HighCholDropped</th>\n",
       "      <td>0.179335</td>\n",
       "    </tr>\n",
       "    <tr>\n",
       "      <th>MyocardialDropped</th>\n",
       "      <td>0.164384</td>\n",
       "    </tr>\n",
       "    <tr>\n",
       "      <th>NotAbleToAffordDoctorDropped</th>\n",
       "      <td>0.156182</td>\n",
       "    </tr>\n",
       "  </tbody>\n",
       "</table>\n",
       "</div>"
      ],
      "text/plain": [
       "                                   AUC\n",
       "FruitDropped                  0.842963\n",
       "ZodiacDropped                 0.835806\n",
       "EducationBracketDropped       0.831941\n",
       "HighBPDropped                 0.819684\n",
       "AgeBracketDropped             0.814736\n",
       "HeavyDrinkerDropped           0.813105\n",
       "BMIDropped                    0.807909\n",
       "BiologicalSexDropped          0.806964\n",
       "VegetablesDropped             0.792872\n",
       "HasHealthcareDropped          0.790403\n",
       "GeneralHealthDropped          0.789043\n",
       "IncomeBracketDropped          0.785738\n",
       "PhysicalHealthDropped         0.772531\n",
       "StrokeDropped                 0.710955\n",
       "PhysActivityDropped           0.245160\n",
       "SmokerDropped                 0.215229\n",
       "MentalHealthDropped           0.207656\n",
       "HardToClimbStairsDropped      0.186263\n",
       "HighCholDropped               0.179335\n",
       "MyocardialDropped             0.164384\n",
       "NotAbleToAffordDoctorDropped  0.156182"
      ]
     },
     "execution_count": 386,
     "metadata": {},
     "output_type": "execute_result"
    }
   ],
   "source": [
    "importances.sort_values('AUC', ascending=False)"
   ]
  }
 ],
 "metadata": {
  "interpreter": {
   "hash": "40d3a090f54c6569ab1632332b64b2c03c39dcf918b08424e98f38b5ae0af88f"
  },
  "kernelspec": {
   "display_name": "Python 3.9.7 ('base')",
   "language": "python",
   "name": "python3"
  },
  "language_info": {
   "codemirror_mode": {
    "name": "ipython",
    "version": 3
   },
   "file_extension": ".py",
   "mimetype": "text/x-python",
   "name": "python",
   "nbconvert_exporter": "python",
   "pygments_lexer": "ipython3",
   "version": "3.9.7"
  },
  "orig_nbformat": 4
 },
 "nbformat": 4,
 "nbformat_minor": 2
}
