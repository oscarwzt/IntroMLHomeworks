{
 "cells": [
  {
   "cell_type": "code",
   "execution_count": 1,
   "id": "c6a3815c-8c33-4c94-8da1-1d9ea9d5532c",
   "metadata": {},
   "outputs": [],
   "source": [
    "import pandas as pd\n",
    "import matplotlib.pyplot as plt\n",
    "from sklearn.linear_model import LinearRegression\n",
    "import numpy as np\n",
    "df = pd.read_csv('housingUnits.csv')\n",
    "dfhh = df.copy().drop(['total_rooms', 'total_bedrooms'], axis = 1) # dataframe with standardized (by number of households) variables 2 and 3\n",
    "dfPop = dfhh.copy()\n",
    "varNames = df.columns\n",
    "\n",
    "\n",
    "# Standardize by number of households\n",
    "dfhh['roomPerHousehold'] = df['total_rooms'] / df['households']\n",
    "dfhh['bedroomPerHousehold'] = df['total_bedrooms'] / df['households']\n",
    "# Standarddize by population\n",
    "dfPop['roomPerPerson'] = df['total_rooms'] / df['population']\n",
    "dfPop['bedroomPerPerson'] = df['total_bedrooms'] / df['population']\n",
    "\n",
    "def graphCol(colName):\n",
    "    plt.hist(df[colName], bins = 30)\n",
    "    plt.xlabel(colName)\n",
    "    plt.ylabel('Frequency')\n",
    "    plt.title(colName)\n",
    "    plt.savefig(colName+'.jpg')\n",
    "\n",
    "def graphScatter(colName1, colName2):\n",
    "   # plt.figure(figsize = (10,10))\n",
    "    plt.plot(dfPop[colName1], dfPop[colName2], 'o', markersize = 1)\n",
    "    plt.xlabel(colName1)\n",
    "    plt.ylabel(colName2)\n",
    "    plt.title('{col1} vs. {col2}   '.format(col1 = colName1, col2 = colName2) + 'r = {:.3f}'.format(np.corrcoef(dfPop[colName1], dfPop[colName2])[0,1] ))\n",
    "    plt.savefig('{col1} vs {col2}'.format(col1 = colName1, col2 = colName2)+'.jpg')\n",
    "\n"
   ]
  },
  {
   "cell_type": "markdown",
   "id": "b028ce3f-e321-4652-8caf-2a1f22982bea",
   "metadata": {},
   "source": [
    "# Basic EDA"
   ]
  },
  {
   "cell_type": "code",
   "execution_count": null,
   "id": "a1e63730-59d8-46da-b807-e23a4f495da4",
   "metadata": {},
   "outputs": [],
   "source": [
    "# Graph the all variables' distributions\n",
    "fig, axis = plt.subplots(2,4, figsize = (25,10))\n",
    "\n",
    "for ii in range(2):\n",
    "    for jj in range(4):\n",
    "        axis[ii,jj].hist(df[varNames[ii+jj]], bins = 30)\n",
    "        axis[ii,jj].set_title(varNames[ii+jj])\n",
    "        \n",
    "plt.savefig('variableDistributions.jpg')\n",
    "\n",
    "pd.plotting.scatter_matrix(df, figsize = (20,20))"
   ]
  },
  {
   "cell_type": "markdown",
   "id": "060007aa-ee00-4c1e-9da7-d879212e78b3",
   "metadata": {},
   "source": [
    "# Question 1"
   ]
  },
  {
   "cell_type": "code",
   "execution_count": 122,
   "id": "4bd54bf2-0814-422d-b1bb-b21c5b6a3945",
   "metadata": {},
   "outputs": [
    {
     "data": {
      "image/png": "[encoded data removed]",
      "text/plain": [
       "<Figure size 432x288 with 1 Axes>"
      ]
     },
     "metadata": {
      "needs_background": "light"
     },
     "output_type": "display_data"
    }
   ],
   "source": [
    "df.corr()\n",
    "# v4 vs. target = -0.025\n",
    "# v5 vs. target = 0.065\n",
    "graphScatter('population', 'median_house_value')"
   ]
  },
  {
   "cell_type": "markdown",
   "id": "ddf27839-6d99-4136-a934-b11a4f9e29c5",
   "metadata": {},
   "source": [
    "# Question 2"
   ]
  },
  {
   "cell_type": "code",
   "execution_count": null,
   "id": "74c5e242-a75a-49d8-b34a-d423529ad51b",
   "metadata": {},
   "outputs": [],
   "source": [
    "print(df.corr()['total_rooms']['median_house_value']) # correlation btw total rooms and house value\n",
    "print(dfPop.corr()['roomPerPerson']['median_house_value']) # correlation btw rooms/person and house value\n",
    "print(dfhh.corr()['roomPerHousehold']['median_house_value']) # corr btw room/hh and house value\n",
    "print();\n",
    "print(df.corr()['total_rooms']['median_house_value']) # correlation btw total rooms and house value\n",
    "print(dfPop.corr()['bedroomPerPerson']['median_house_value']) # correlation btw bedrooms/person and house value\n",
    "print(dfhh.corr()['bedroomPerHousehold']['median_house_value']) # corr btw bedroom/hh and house value"
   ]
  },
  {
   "cell_type": "markdown",
   "id": "34bdac8d-9af6-4db1-a06c-1317089cc3bd",
   "metadata": {},
   "source": [
    "# Question 3"
   ]
  },
  {
   "cell_type": "code",
   "execution_count": 2,
   "id": "05ae008f-cf61-4796-9396-71cfbea6b913",
   "metadata": {},
   "outputs": [
    {
     "data": {
      "text/html": [
       "<div>\n",
       "<style scoped>\n",
       "    .dataframe tbody tr th:only-of-type {\n",
       "        vertical-align: middle;\n",
       "    }\n",
       "\n",
       "    .dataframe tbody tr th {\n",
       "        vertical-align: top;\n",
       "    }\n",
       "\n",
       "    .dataframe thead th {\n",
       "        text-align: right;\n",
       "    }\n",
       "</style>\n",
       "<table border=\"1\" class=\"dataframe\">\n",
       "  <thead>\n",
       "    <tr style=\"text-align: right;\">\n",
       "      <th></th>\n",
       "      <th>housing_median_age</th>\n",
       "      <th>population</th>\n",
       "      <th>households</th>\n",
       "      <th>median_income</th>\n",
       "      <th>ocean_proximity</th>\n",
       "      <th>median_house_value</th>\n",
       "      <th>roomPerPerson</th>\n",
       "      <th>bedroomPerPerson</th>\n",
       "    </tr>\n",
       "  </thead>\n",
       "  <tbody>\n",
       "    <tr>\n",
       "      <th>housing_median_age</th>\n",
       "      <td>1.000000</td>\n",
       "      <td>-0.296244</td>\n",
       "      <td>-0.302916</td>\n",
       "      <td>-0.119034</td>\n",
       "      <td>-0.295012</td>\n",
       "      <td>0.105623</td>\n",
       "      <td>-0.107926</td>\n",
       "      <td>-0.037240</td>\n",
       "    </tr>\n",
       "    <tr>\n",
       "      <th>population</th>\n",
       "      <td>-0.296244</td>\n",
       "      <td>1.000000</td>\n",
       "      <td>0.907222</td>\n",
       "      <td>0.004834</td>\n",
       "      <td>0.039415</td>\n",
       "      <td>-0.024650</td>\n",
       "      <td>-0.140520</td>\n",
       "      <td>-0.219651</td>\n",
       "    </tr>\n",
       "    <tr>\n",
       "      <th>households</th>\n",
       "      <td>-0.302916</td>\n",
       "      <td>0.907222</td>\n",
       "      <td>1.000000</td>\n",
       "      <td>0.013033</td>\n",
       "      <td>-0.012873</td>\n",
       "      <td>0.065843</td>\n",
       "      <td>-0.028473</td>\n",
       "      <td>-0.160157</td>\n",
       "    </tr>\n",
       "    <tr>\n",
       "      <th>median_income</th>\n",
       "      <td>-0.119034</td>\n",
       "      <td>0.004834</td>\n",
       "      <td>0.013033</td>\n",
       "      <td>1.000000</td>\n",
       "      <td>-0.163755</td>\n",
       "      <td>0.688075</td>\n",
       "      <td>0.237828</td>\n",
       "      <td>0.116347</td>\n",
       "    </tr>\n",
       "    <tr>\n",
       "      <th>ocean_proximity</th>\n",
       "      <td>-0.295012</td>\n",
       "      <td>0.039415</td>\n",
       "      <td>-0.012873</td>\n",
       "      <td>-0.163755</td>\n",
       "      <td>1.000000</td>\n",
       "      <td>-0.397251</td>\n",
       "      <td>0.028328</td>\n",
       "      <td>0.027222</td>\n",
       "    </tr>\n",
       "    <tr>\n",
       "      <th>median_house_value</th>\n",
       "      <td>0.105623</td>\n",
       "      <td>-0.024650</td>\n",
       "      <td>0.065843</td>\n",
       "      <td>0.688075</td>\n",
       "      <td>-0.397251</td>\n",
       "      <td>1.000000</td>\n",
       "      <td>0.209482</td>\n",
       "      <td>0.113095</td>\n",
       "    </tr>\n",
       "    <tr>\n",
       "      <th>roomPerPerson</th>\n",
       "      <td>-0.107926</td>\n",
       "      <td>-0.140520</td>\n",
       "      <td>-0.028473</td>\n",
       "      <td>0.237828</td>\n",
       "      <td>0.028328</td>\n",
       "      <td>0.209482</td>\n",
       "      <td>1.000000</td>\n",
       "      <td>0.641464</td>\n",
       "    </tr>\n",
       "    <tr>\n",
       "      <th>bedroomPerPerson</th>\n",
       "      <td>-0.037240</td>\n",
       "      <td>-0.219651</td>\n",
       "      <td>-0.160157</td>\n",
       "      <td>0.116347</td>\n",
       "      <td>0.027222</td>\n",
       "      <td>0.113095</td>\n",
       "      <td>0.641464</td>\n",
       "      <td>1.000000</td>\n",
       "    </tr>\n",
       "  </tbody>\n",
       "</table>\n",
       "</div>"
      ],
      "text/plain": [
       "                    housing_median_age  population  households  median_income  \\\n",
       "housing_median_age            1.000000   -0.296244   -0.302916      -0.119034   \n",
       "population                   -0.296244    1.000000    0.907222       0.004834   \n",
       "households                   -0.302916    0.907222    1.000000       0.013033   \n",
       "median_income                -0.119034    0.004834    0.013033       1.000000   \n",
       "ocean_proximity              -0.295012    0.039415   -0.012873      -0.163755   \n",
       "median_house_value            0.105623   -0.024650    0.065843       0.688075   \n",
       "roomPerPerson                -0.107926   -0.140520   -0.028473       0.237828   \n",
       "bedroomPerPerson             -0.037240   -0.219651   -0.160157       0.116347   \n",
       "\n",
       "                    ocean_proximity  median_house_value  roomPerPerson  \\\n",
       "housing_median_age        -0.295012            0.105623      -0.107926   \n",
       "population                 0.039415           -0.024650      -0.140520   \n",
       "households                -0.012873            0.065843      -0.028473   \n",
       "median_income             -0.163755            0.688075       0.237828   \n",
       "ocean_proximity            1.000000           -0.397251       0.028328   \n",
       "median_house_value        -0.397251            1.000000       0.209482   \n",
       "roomPerPerson              0.028328            0.209482       1.000000   \n",
       "bedroomPerPerson           0.027222            0.113095       0.641464   \n",
       "\n",
       "                    bedroomPerPerson  \n",
       "housing_median_age         -0.037240  \n",
       "population                 -0.219651  \n",
       "households                 -0.160157  \n",
       "median_income               0.116347  \n",
       "ocean_proximity             0.027222  \n",
       "median_house_value          0.113095  \n",
       "roomPerPerson               0.641464  \n",
       "bedroomPerPerson            1.000000  "
      ]
     },
     "execution_count": 2,
     "metadata": {},
     "output_type": "execute_result"
    }
   ],
   "source": [
    "dfPop.corr()\n",
    "# this is the correlation matrix of the dataset with the original variables 2 and 3 adjusted\n",
    "# highest correlation: median income\n",
    "# Lowest correlation: population"
   ]
  },
  {
   "cell_type": "markdown",
   "id": "7ab8ef3b-b044-458e-ae09-cc5ae2164877",
   "metadata": {},
   "source": [
    "# Question 4"
   ]
  },
  {
   "cell_type": "code",
   "execution_count": null,
   "id": "a5b6ebe9-08fc-459a-90f1-ea374e6a38fd",
   "metadata": {},
   "outputs": [],
   "source": [
    "X = df.iloc[:, :-1] #original features\n",
    "y = df.iloc[:, -1] #target variable\n",
    "\n",
    "Xpop = dfPop.drop('median_house_value', axis = 1) #variables 2 and 3 adjusted by population\n",
    "Xhh = dfhh.drop('median_house_value', axis = 1) #variables 2 and 3 adjusted by number of households\n",
    "\n",
    "model = LinearRegression()\n",
    "modle.fit(X, y)\n",
    "Xr2 = modle.score(X,y)\n",
    "\n",
    "modle.fit(Xpop, y)\n",
    "Xpopr2 = modle.score(Xpop, y)\n",
    "\n",
    "modle.fit(Xhh, y)\n",
    "Xhh = modle.score(Xhh, y)\n",
    "print(Xr2)\n",
    "print(Xpopr2)\n",
    "print(Xhh)\n",
    "\n",
    "# OLS with only median_income\n",
    "model.fit(df['median_income'].values.reshape(-1,1),y)\n",
    "model.score(df['median_income'].values.reshape(-1,1),y)"
   ]
  },
  {
   "cell_type": "markdown",
   "id": "5c8ff538-b6f6-4d71-98b0-ae2dff83fbb6",
   "metadata": {},
   "source": [
    "# Question 5"
   ]
  },
  {
   "cell_type": "code",
   "execution_count": 126,
   "id": "c0726daa-90e1-4162-9249-0d6955f90acb",
   "metadata": {},
   "outputs": [
    {
     "name": "stdout",
     "output_type": "stream",
     "text": [
      "corr btw room/person and bedroom/person:  0.6414637002481975\n",
      "corr btw population and number of households:  0.9072222660959659\n"
     ]
    },
    {
     "data": {
      "image/png": "[encoded data removed]",
      "text/plain": [
       "<Figure size 432x288 with 1 Axes>"
      ]
     },
     "metadata": {
      "needs_background": "light"
     },
     "output_type": "display_data"
    }
   ],
   "source": [
    "print(\"corr btw room/person and bedroom/person: \",dfPop.corr().iloc[-1, -2])\n",
    "print(\"corr btw population and number of households: \",dfPop.corr().iloc[1,2])\n",
    "\n",
    "graphScatter(\"population\", 'households')\n"
   ]
  },
  {
   "cell_type": "markdown",
   "id": "935c5f70-bfe0-4b62-9de2-ef8419ac7ab9",
   "metadata": {},
   "source": [
    "# Extra credit (a)"
   ]
  },
  {
   "cell_type": "code",
   "execution_count": null,
   "id": "02ddb32d-58a0-476f-8451-3609adb33ba0",
   "metadata": {},
   "outputs": [],
   "source": [
    "def graphCol(colName):\n",
    "    plt.hist(df[colName], bins = 30)\n",
    "    plt.xlabel(colName)\n",
    "    plt.ylabel('Frequency')\n",
    "    plt.title(colName)\n",
    "    plt.savefig(colName+'.jpg')\n",
    "    \n",
    "'''plt.hist(df['housing_median_age'], bins = 100)\n",
    "plt.xlabel(\"Years\")\n",
    "plt.ylabel('Frequency')\n",
    "plt.title('Housing Median Age')'''\n",
    "\n",
    "#plt.savefig('housing_median_age.jpg')\n",
    "\n",
    "graphCol('housing_median_age')\n",
    "#plt.savefig('median_house_value.jpg')"
   ]
  },
  {
   "cell_type": "markdown",
   "id": "6fff8586-9a08-4eea-b89c-ec4c8cc25fe9",
   "metadata": {},
   "source": [
    "# Extra credit (b)"
   ]
  },
  {
   "cell_type": "code",
   "execution_count": null,
   "id": "6f98c473-da2f-40ba-8e9a-8a24a8d6b7e7",
   "metadata": {},
   "outputs": [],
   "source": [
    "graphCol('median_house_value')"
   ]
  },
  {
   "cell_type": "code",
   "execution_count": null,
   "id": "bde46d62-fac0-45ce-9183-c338cb039108",
   "metadata": {},
   "outputs": [],
   "source": []
  }
 ],
 "metadata": {
  "kernelspec": {
   "display_name": "Python 3",
   "language": "python",
   "name": "python3"
  },
  "language_info": {
   "codemirror_mode": {
    "name": "ipython",
    "version": 3
   },
   "file_extension": ".py",
   "mimetype": "text/x-python",
   "name": "python",
   "nbconvert_exporter": "python",
   "pygments_lexer": "ipython3",
   "version": "3.8.8"
  }
 },
 "nbformat": 4,
 "nbformat_minor": 5
}
